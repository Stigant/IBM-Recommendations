{
 "cells": [
  {
   "cell_type": "markdown",
   "metadata": {},
   "source": [
    "# Recommendations with IBM\n",
    "\n",
    "This notebook explores several different methods of making recommendations to users. The data is from the IBM AI articles platform, provided as part of a Udacity project which formed the basis for this work. The focus will be on making recommendations for users that are already well known to the platform, not on new ones.\n",
    "\n",
    "\n",
    "## Table of Contents\n",
    "\n",
    "I. [Exploratory Data Analysis](#Exploratory-Data-Analysis)<br>\n",
    "II. [Validating our Methods](#Validation)<br>\n",
    "III. [Rank Based Recommendations](#Rank)<br>\n",
    "IV. [User-User Based Collaborative Filtering](#User-User)<br>\n",
    "V. [Content Based Recommendations](#Content-Recs)<br>\n",
    "VI. [Matrix Factorization](#Matrix-Fact)<br>\n",
    "VII. [Conclusion](#conclusions)\n"
   ]
  },
  {
   "cell_type": "code",
   "execution_count": 1,
   "metadata": {
    "scrolled": true
   },
   "outputs": [
    {
     "name": "stderr",
     "output_type": "stream",
     "text": [
      "[nltk_data] Downloading package punkt to\n",
      "[nltk_data]     C:\\Users\\liams\\AppData\\Roaming\\nltk_data...\n",
      "[nltk_data]   Package punkt is already up-to-date!\n",
      "[nltk_data] Downloading package averaged_perceptron_tagger to\n",
      "[nltk_data]     C:\\Users\\liams\\AppData\\Roaming\\nltk_data...\n",
      "[nltk_data]   Package averaged_perceptron_tagger is already up-to-\n",
      "[nltk_data]       date!\n",
      "[nltk_data] Downloading package stopwords to\n",
      "[nltk_data]     C:\\Users\\liams\\AppData\\Roaming\\nltk_data...\n",
      "[nltk_data]   Package stopwords is already up-to-date!\n",
      "[nltk_data] Downloading package wordnet to\n",
      "[nltk_data]     C:\\Users\\liams\\AppData\\Roaming\\nltk_data...\n",
      "[nltk_data]   Package wordnet is already up-to-date!\n"
     ]
    }
   ],
   "source": [
    "import pandas as pd\n",
    "import numpy as np\n",
    "import matplotlib.pyplot as plt\n",
    "import pickle\n",
    "\n",
    "import nltk\n",
    "from nltk import pos_tag\n",
    "from nltk.corpus import stopwords, wordnet\n",
    "from nltk.stem.wordnet import WordNetLemmatizer\n",
    "from nltk.tokenize import word_tokenize\n",
    "nltk.download('punkt')\n",
    "nltk.download('averaged_perceptron_tagger')\n",
    "nltk.download('stopwords')\n",
    "nltk.download('wordnet')\n",
    "\n",
    "from sklearn.pipeline import FeatureUnion, Pipeline\n",
    "from sklearn.preprocessing import FunctionTransformer\n",
    "from sklearn.feature_extraction.text import CountVectorizer, TfidfTransformer\n",
    "from sklearn.metrics import auc\n",
    "from scipy.linalg import subspace_angles\n",
    "from sklearn.metrics.pairwise import cosine_similarity\n",
    "\n",
    "import re\n",
    "from urllib.parse import urlparse\n",
    "\n",
    "%matplotlib inline\n",
    "\n",
    "df = pd.read_csv('data/user-item-interactions.csv')\n",
    "df_content = pd.read_csv('data/articles_community.csv')\n",
    "del df['Unnamed: 0']\n",
    "del df_content['Unnamed: 0']\n"
   ]
  },
  {
   "cell_type": "markdown",
   "metadata": {},
   "source": [
    "### <a class=\"anchor\" id=\"Exploratory-Data-Analysis\">Part I : Exploratory Data Analysis</a>\n",
    "\n",
    "Before beginning the work on recommendation methods, it is worth taking some time to explore and understand the data."
   ]
  },
  {
   "cell_type": "code",
   "execution_count": 2,
   "metadata": {},
   "outputs": [
    {
     "data": {
      "text/html": [
       "<div>\n",
       "<style scoped>\n",
       "    .dataframe tbody tr th:only-of-type {\n",
       "        vertical-align: middle;\n",
       "    }\n",
       "\n",
       "    .dataframe tbody tr th {\n",
       "        vertical-align: top;\n",
       "    }\n",
       "\n",
       "    .dataframe thead th {\n",
       "        text-align: right;\n",
       "    }\n",
       "</style>\n",
       "<table border=\"1\" class=\"dataframe\">\n",
       "  <thead>\n",
       "    <tr style=\"text-align: right;\">\n",
       "      <th></th>\n",
       "      <th>article_id</th>\n",
       "      <th>title</th>\n",
       "      <th>email</th>\n",
       "    </tr>\n",
       "  </thead>\n",
       "  <tbody>\n",
       "    <tr>\n",
       "      <th>0</th>\n",
       "      <td>1430.0</td>\n",
       "      <td>using pixiedust for fast, flexible, and easier...</td>\n",
       "      <td>ef5f11f77ba020cd36e1105a00ab868bbdbf7fe7</td>\n",
       "    </tr>\n",
       "    <tr>\n",
       "      <th>1</th>\n",
       "      <td>1314.0</td>\n",
       "      <td>healthcare python streaming application demo</td>\n",
       "      <td>083cbdfa93c8444beaa4c5f5e0f5f9198e4f9e0b</td>\n",
       "    </tr>\n",
       "    <tr>\n",
       "      <th>2</th>\n",
       "      <td>1429.0</td>\n",
       "      <td>use deep learning for image classification</td>\n",
       "      <td>b96a4f2e92d8572034b1e9b28f9ac673765cd074</td>\n",
       "    </tr>\n",
       "    <tr>\n",
       "      <th>3</th>\n",
       "      <td>1338.0</td>\n",
       "      <td>ml optimization using cognitive assistant</td>\n",
       "      <td>06485706b34a5c9bf2a0ecdac41daf7e7654ceb7</td>\n",
       "    </tr>\n",
       "    <tr>\n",
       "      <th>4</th>\n",
       "      <td>1276.0</td>\n",
       "      <td>deploy your python model as a restful api</td>\n",
       "      <td>f01220c46fc92c6e6b161b1849de11faacd7ccb2</td>\n",
       "    </tr>\n",
       "  </tbody>\n",
       "</table>\n",
       "</div>"
      ],
      "text/plain": [
       "   article_id                                              title  \\\n",
       "0      1430.0  using pixiedust for fast, flexible, and easier...   \n",
       "1      1314.0       healthcare python streaming application demo   \n",
       "2      1429.0         use deep learning for image classification   \n",
       "3      1338.0          ml optimization using cognitive assistant   \n",
       "4      1276.0          deploy your python model as a restful api   \n",
       "\n",
       "                                      email  \n",
       "0  ef5f11f77ba020cd36e1105a00ab868bbdbf7fe7  \n",
       "1  083cbdfa93c8444beaa4c5f5e0f5f9198e4f9e0b  \n",
       "2  b96a4f2e92d8572034b1e9b28f9ac673765cd074  \n",
       "3  06485706b34a5c9bf2a0ecdac41daf7e7654ceb7  \n",
       "4  f01220c46fc92c6e6b161b1849de11faacd7ccb2  "
      ]
     },
     "execution_count": 2,
     "metadata": {},
     "output_type": "execute_result"
    }
   ],
   "source": [
    "# Show df to get an idea of the data\n",
    "df.head()"
   ]
  },
  {
   "cell_type": "code",
   "execution_count": 3,
   "metadata": {},
   "outputs": [
    {
     "data": {
      "text/html": [
       "<div>\n",
       "<style scoped>\n",
       "    .dataframe tbody tr th:only-of-type {\n",
       "        vertical-align: middle;\n",
       "    }\n",
       "\n",
       "    .dataframe tbody tr th {\n",
       "        vertical-align: top;\n",
       "    }\n",
       "\n",
       "    .dataframe thead th {\n",
       "        text-align: right;\n",
       "    }\n",
       "</style>\n",
       "<table border=\"1\" class=\"dataframe\">\n",
       "  <thead>\n",
       "    <tr style=\"text-align: right;\">\n",
       "      <th></th>\n",
       "      <th>doc_body</th>\n",
       "      <th>doc_description</th>\n",
       "      <th>doc_full_name</th>\n",
       "      <th>doc_status</th>\n",
       "      <th>article_id</th>\n",
       "    </tr>\n",
       "  </thead>\n",
       "  <tbody>\n",
       "    <tr>\n",
       "      <th>0</th>\n",
       "      <td>Skip navigation Sign in SearchLoading...\\r\\n\\r...</td>\n",
       "      <td>Detect bad readings in real time using Python ...</td>\n",
       "      <td>Detect Malfunctioning IoT Sensors with Streami...</td>\n",
       "      <td>Live</td>\n",
       "      <td>0</td>\n",
       "    </tr>\n",
       "    <tr>\n",
       "      <th>1</th>\n",
       "      <td>No Free Hunch Navigation * kaggle.com\\r\\n\\r\\n ...</td>\n",
       "      <td>See the forest, see the trees. Here lies the c...</td>\n",
       "      <td>Communicating data science: A guide to present...</td>\n",
       "      <td>Live</td>\n",
       "      <td>1</td>\n",
       "    </tr>\n",
       "    <tr>\n",
       "      <th>2</th>\n",
       "      <td>☰ * Login\\r\\n * Sign Up\\r\\n\\r\\n * Learning Pat...</td>\n",
       "      <td>Here’s this week’s news in Data Science and Bi...</td>\n",
       "      <td>This Week in Data Science (April 18, 2017)</td>\n",
       "      <td>Live</td>\n",
       "      <td>2</td>\n",
       "    </tr>\n",
       "    <tr>\n",
       "      <th>3</th>\n",
       "      <td>DATALAYER: HIGH THROUGHPUT, LOW LATENCY AT SCA...</td>\n",
       "      <td>Learn how distributed DBs solve the problem of...</td>\n",
       "      <td>DataLayer Conference: Boost the performance of...</td>\n",
       "      <td>Live</td>\n",
       "      <td>3</td>\n",
       "    </tr>\n",
       "    <tr>\n",
       "      <th>4</th>\n",
       "      <td>Skip navigation Sign in SearchLoading...\\r\\n\\r...</td>\n",
       "      <td>This video demonstrates the power of IBM DataS...</td>\n",
       "      <td>Analyze NY Restaurant data using Spark in DSX</td>\n",
       "      <td>Live</td>\n",
       "      <td>4</td>\n",
       "    </tr>\n",
       "  </tbody>\n",
       "</table>\n",
       "</div>"
      ],
      "text/plain": [
       "                                            doc_body  \\\n",
       "0  Skip navigation Sign in SearchLoading...\\r\\n\\r...   \n",
       "1  No Free Hunch Navigation * kaggle.com\\r\\n\\r\\n ...   \n",
       "2  ☰ * Login\\r\\n * Sign Up\\r\\n\\r\\n * Learning Pat...   \n",
       "3  DATALAYER: HIGH THROUGHPUT, LOW LATENCY AT SCA...   \n",
       "4  Skip navigation Sign in SearchLoading...\\r\\n\\r...   \n",
       "\n",
       "                                     doc_description  \\\n",
       "0  Detect bad readings in real time using Python ...   \n",
       "1  See the forest, see the trees. Here lies the c...   \n",
       "2  Here’s this week’s news in Data Science and Bi...   \n",
       "3  Learn how distributed DBs solve the problem of...   \n",
       "4  This video demonstrates the power of IBM DataS...   \n",
       "\n",
       "                                       doc_full_name doc_status  article_id  \n",
       "0  Detect Malfunctioning IoT Sensors with Streami...       Live           0  \n",
       "1  Communicating data science: A guide to present...       Live           1  \n",
       "2         This Week in Data Science (April 18, 2017)       Live           2  \n",
       "3  DataLayer Conference: Boost the performance of...       Live           3  \n",
       "4      Analyze NY Restaurant data using Spark in DSX       Live           4  "
      ]
     },
     "execution_count": 3,
     "metadata": {},
     "output_type": "execute_result"
    }
   ],
   "source": [
    "# Show df_content to get an idea of the data\n",
    "df_content.head()"
   ]
  },
  {
   "cell_type": "code",
   "execution_count": 4,
   "metadata": {},
   "outputs": [],
   "source": [
    "df_content.doc_full_name=df_content.doc_full_name.str.lower()"
   ]
  },
  {
   "cell_type": "code",
   "execution_count": 5,
   "metadata": {},
   "outputs": [],
   "source": [
    "merged_df=pd.merge(df_content, df[['article_id', 'title']].drop_duplicates(), left_on='doc_full_name', right_on='title')"
   ]
  },
  {
   "cell_type": "code",
   "execution_count": 6,
   "metadata": {},
   "outputs": [
    {
     "data": {
      "text/plain": [
       "True"
      ]
     },
     "execution_count": 6,
     "metadata": {},
     "output_type": "execute_result"
    }
   ],
   "source": [
    "merged_df.apply(lambda row: row.article_id_x == row.article_id_y, axis=1).all()"
   ]
  },
  {
   "cell_type": "markdown",
   "metadata": {},
   "source": [
    "The df and df_content dataframes contain differing sets of articles. I had worried the article id's might be wrong but they do match on titles."
   ]
  },
  {
   "cell_type": "code",
   "execution_count": 7,
   "metadata": {},
   "outputs": [
    {
     "data": {
      "text/html": [
       "<div>\n",
       "<style scoped>\n",
       "    .dataframe tbody tr th:only-of-type {\n",
       "        vertical-align: middle;\n",
       "    }\n",
       "\n",
       "    .dataframe tbody tr th {\n",
       "        vertical-align: top;\n",
       "    }\n",
       "\n",
       "    .dataframe thead th {\n",
       "        text-align: right;\n",
       "    }\n",
       "</style>\n",
       "<table border=\"1\" class=\"dataframe\">\n",
       "  <thead>\n",
       "    <tr style=\"text-align: right;\">\n",
       "      <th></th>\n",
       "      <th>Views</th>\n",
       "    </tr>\n",
       "    <tr>\n",
       "      <th>email</th>\n",
       "      <th></th>\n",
       "    </tr>\n",
       "  </thead>\n",
       "  <tbody>\n",
       "    <tr>\n",
       "      <th>0000b6387a0366322d7fbfc6434af145adf7fed1</th>\n",
       "      <td>13</td>\n",
       "    </tr>\n",
       "    <tr>\n",
       "      <th>001055fc0bb67f71e8fa17002342b256a30254cd</th>\n",
       "      <td>4</td>\n",
       "    </tr>\n",
       "    <tr>\n",
       "      <th>00148e4911c7e04eeff8def7bbbdaf1c59c2c621</th>\n",
       "      <td>3</td>\n",
       "    </tr>\n",
       "    <tr>\n",
       "      <th>001a852ecbd6cc12ab77a785efa137b2646505fe</th>\n",
       "      <td>6</td>\n",
       "    </tr>\n",
       "    <tr>\n",
       "      <th>001fc95b90da5c3cb12c501d201a915e4f093290</th>\n",
       "      <td>2</td>\n",
       "    </tr>\n",
       "  </tbody>\n",
       "</table>\n",
       "</div>"
      ],
      "text/plain": [
       "                                          Views\n",
       "email                                          \n",
       "0000b6387a0366322d7fbfc6434af145adf7fed1     13\n",
       "001055fc0bb67f71e8fa17002342b256a30254cd      4\n",
       "00148e4911c7e04eeff8def7bbbdaf1c59c2c621      3\n",
       "001a852ecbd6cc12ab77a785efa137b2646505fe      6\n",
       "001fc95b90da5c3cb12c501d201a915e4f093290      2"
      ]
     },
     "execution_count": 7,
     "metadata": {},
     "output_type": "execute_result"
    }
   ],
   "source": [
    "df_no_title=df.drop('title', axis=1)\n",
    "user_view_counts=df_no_title.groupby('email').count()\n",
    "user_view_counts.columns=['Views']\n",
    "article_view_counts=df_no_title.groupby('article_id').count()\n",
    "article_view_counts.columns=['Views']\n",
    "user_view_counts.head()"
   ]
  },
  {
   "cell_type": "code",
   "execution_count": 8,
   "metadata": {},
   "outputs": [
    {
     "name": "stdout",
     "output_type": "stream",
     "text": [
      "Views    3.0\n",
      "dtype: float64\n"
     ]
    },
    {
     "data": {
      "text/html": [
       "<div>\n",
       "<style scoped>\n",
       "    .dataframe tbody tr th:only-of-type {\n",
       "        vertical-align: middle;\n",
       "    }\n",
       "\n",
       "    .dataframe tbody tr th {\n",
       "        vertical-align: top;\n",
       "    }\n",
       "\n",
       "    .dataframe thead th {\n",
       "        text-align: right;\n",
       "    }\n",
       "</style>\n",
       "<table border=\"1\" class=\"dataframe\">\n",
       "  <thead>\n",
       "    <tr style=\"text-align: right;\">\n",
       "      <th></th>\n",
       "      <th>Views</th>\n",
       "    </tr>\n",
       "  </thead>\n",
       "  <tbody>\n",
       "    <tr>\n",
       "      <th>count</th>\n",
       "      <td>5148.000000</td>\n",
       "    </tr>\n",
       "    <tr>\n",
       "      <th>mean</th>\n",
       "      <td>8.930847</td>\n",
       "    </tr>\n",
       "    <tr>\n",
       "      <th>std</th>\n",
       "      <td>16.802267</td>\n",
       "    </tr>\n",
       "    <tr>\n",
       "      <th>min</th>\n",
       "      <td>1.000000</td>\n",
       "    </tr>\n",
       "    <tr>\n",
       "      <th>25%</th>\n",
       "      <td>1.000000</td>\n",
       "    </tr>\n",
       "    <tr>\n",
       "      <th>50%</th>\n",
       "      <td>3.000000</td>\n",
       "    </tr>\n",
       "    <tr>\n",
       "      <th>75%</th>\n",
       "      <td>9.000000</td>\n",
       "    </tr>\n",
       "    <tr>\n",
       "      <th>max</th>\n",
       "      <td>364.000000</td>\n",
       "    </tr>\n",
       "  </tbody>\n",
       "</table>\n",
       "</div>"
      ],
      "text/plain": [
       "             Views\n",
       "count  5148.000000\n",
       "mean      8.930847\n",
       "std      16.802267\n",
       "min       1.000000\n",
       "25%       1.000000\n",
       "50%       3.000000\n",
       "75%       9.000000\n",
       "max     364.000000"
      ]
     },
     "execution_count": 8,
     "metadata": {},
     "output_type": "execute_result"
    }
   ],
   "source": [
    "print(user_view_counts.median())\n",
    "user_view_counts.describe()"
   ]
  },
  {
   "cell_type": "code",
   "execution_count": 9,
   "metadata": {},
   "outputs": [
    {
     "data": {
      "text/html": [
       "<div>\n",
       "<style scoped>\n",
       "    .dataframe tbody tr th:only-of-type {\n",
       "        vertical-align: middle;\n",
       "    }\n",
       "\n",
       "    .dataframe tbody tr th {\n",
       "        vertical-align: top;\n",
       "    }\n",
       "\n",
       "    .dataframe thead th {\n",
       "        text-align: right;\n",
       "    }\n",
       "</style>\n",
       "<table border=\"1\" class=\"dataframe\">\n",
       "  <thead>\n",
       "    <tr style=\"text-align: right;\">\n",
       "      <th></th>\n",
       "      <th>Views</th>\n",
       "    </tr>\n",
       "    <tr>\n",
       "      <th>article_id</th>\n",
       "      <th></th>\n",
       "    </tr>\n",
       "  </thead>\n",
       "  <tbody>\n",
       "    <tr>\n",
       "      <th>0.0</th>\n",
       "      <td>14</td>\n",
       "    </tr>\n",
       "    <tr>\n",
       "      <th>2.0</th>\n",
       "      <td>58</td>\n",
       "    </tr>\n",
       "    <tr>\n",
       "      <th>4.0</th>\n",
       "      <td>13</td>\n",
       "    </tr>\n",
       "    <tr>\n",
       "      <th>8.0</th>\n",
       "      <td>85</td>\n",
       "    </tr>\n",
       "    <tr>\n",
       "      <th>9.0</th>\n",
       "      <td>10</td>\n",
       "    </tr>\n",
       "  </tbody>\n",
       "</table>\n",
       "</div>"
      ],
      "text/plain": [
       "            Views\n",
       "article_id       \n",
       "0.0            14\n",
       "2.0            58\n",
       "4.0            13\n",
       "8.0            85\n",
       "9.0            10"
      ]
     },
     "execution_count": 9,
     "metadata": {},
     "output_type": "execute_result"
    }
   ],
   "source": [
    "article_view_counts.head()"
   ]
  },
  {
   "cell_type": "code",
   "execution_count": 10,
   "metadata": {
    "scrolled": true
   },
   "outputs": [
    {
     "data": {
      "text/plain": [
       "article_id\n",
       "50     True\n",
       "221    True\n",
       "232    True\n",
       "398    True\n",
       "577    True\n",
       "Name: doc_body, dtype: bool"
      ]
     },
     "execution_count": 10,
     "metadata": {},
     "output_type": "execute_result"
    }
   ],
   "source": [
    "# Find and explore duplicate articles\n",
    "dupes=df_content.groupby('article_id').count().iloc[:,0] > 1\n",
    "dupes[dupes].head()"
   ]
  },
  {
   "cell_type": "code",
   "execution_count": 11,
   "metadata": {},
   "outputs": [
    {
     "name": "stdout",
     "output_type": "stream",
     "text": [
      "(10, 4)\n"
     ]
    },
    {
     "name": "stderr",
     "output_type": "stream",
     "text": [
      "<ipython-input-11-e8c9a7165a9e>:1: UserWarning: Boolean Series key will be reindexed to match DataFrame index.\n",
      "  duplicated=df_content.set_index('article_id').sort_index()[dupes]\n"
     ]
    },
    {
     "data": {
      "text/html": [
       "<div>\n",
       "<style scoped>\n",
       "    .dataframe tbody tr th:only-of-type {\n",
       "        vertical-align: middle;\n",
       "    }\n",
       "\n",
       "    .dataframe tbody tr th {\n",
       "        vertical-align: top;\n",
       "    }\n",
       "\n",
       "    .dataframe thead th {\n",
       "        text-align: right;\n",
       "    }\n",
       "</style>\n",
       "<table border=\"1\" class=\"dataframe\">\n",
       "  <thead>\n",
       "    <tr style=\"text-align: right;\">\n",
       "      <th></th>\n",
       "      <th>doc_body</th>\n",
       "      <th>doc_description</th>\n",
       "      <th>doc_full_name</th>\n",
       "      <th>doc_status</th>\n",
       "    </tr>\n",
       "    <tr>\n",
       "      <th>article_id</th>\n",
       "      <th></th>\n",
       "      <th></th>\n",
       "      <th></th>\n",
       "      <th></th>\n",
       "    </tr>\n",
       "  </thead>\n",
       "  <tbody>\n",
       "    <tr>\n",
       "      <th>50</th>\n",
       "      <td>Follow Sign in / Sign up Home About Insight Da...</td>\n",
       "      <td>During the seven-week Insight Data Engineering...</td>\n",
       "      <td>graph-based machine learning</td>\n",
       "      <td>Live</td>\n",
       "    </tr>\n",
       "    <tr>\n",
       "      <th>50</th>\n",
       "      <td>Follow Sign in / Sign up Home About Insight Da...</td>\n",
       "      <td>Community Detection at Scale</td>\n",
       "      <td>graph-based machine learning</td>\n",
       "      <td>Live</td>\n",
       "    </tr>\n",
       "    <tr>\n",
       "      <th>221</th>\n",
       "      <td>Homepage Follow Sign in / Sign up Homepage * H...</td>\n",
       "      <td>One of the earliest documented catalogs was co...</td>\n",
       "      <td>how smart catalogs can turn the big data flood...</td>\n",
       "      <td>Live</td>\n",
       "    </tr>\n",
       "    <tr>\n",
       "      <th>221</th>\n",
       "      <td>* United States\\r\\n\\r\\nIBM® * Site map\\r\\n\\r\\n...</td>\n",
       "      <td>When used to make sense of huge amounts of con...</td>\n",
       "      <td>how smart catalogs can turn the big data flood...</td>\n",
       "      <td>Live</td>\n",
       "    </tr>\n",
       "    <tr>\n",
       "      <th>232</th>\n",
       "      <td>Homepage Follow Sign in Get started Homepage *...</td>\n",
       "      <td>If you are like most data scientists, you are ...</td>\n",
       "      <td>self-service data preparation with ibm data re...</td>\n",
       "      <td>Live</td>\n",
       "    </tr>\n",
       "    <tr>\n",
       "      <th>232</th>\n",
       "      <td>Homepage Follow Sign in Get started * Home\\r\\n...</td>\n",
       "      <td>If you are like most data scientists, you are ...</td>\n",
       "      <td>self-service data preparation with ibm data re...</td>\n",
       "      <td>Live</td>\n",
       "    </tr>\n",
       "    <tr>\n",
       "      <th>398</th>\n",
       "      <td>Homepage Follow Sign in Get started * Home\\r\\n...</td>\n",
       "      <td>Today’s world of data science leverages data f...</td>\n",
       "      <td>using apache spark as a parallel processing fr...</td>\n",
       "      <td>Live</td>\n",
       "    </tr>\n",
       "    <tr>\n",
       "      <th>398</th>\n",
       "      <td>Homepage Follow Sign in Get started Homepage *...</td>\n",
       "      <td>Today’s world of data science leverages data f...</td>\n",
       "      <td>using apache spark as a parallel processing fr...</td>\n",
       "      <td>Live</td>\n",
       "    </tr>\n",
       "    <tr>\n",
       "      <th>577</th>\n",
       "      <td>This video shows you how to construct queries ...</td>\n",
       "      <td>This video shows you how to construct queries ...</td>\n",
       "      <td>use the primary index</td>\n",
       "      <td>Live</td>\n",
       "    </tr>\n",
       "    <tr>\n",
       "      <th>577</th>\n",
       "      <td>This video shows you how to construct queries ...</td>\n",
       "      <td>This video shows you how to construct queries ...</td>\n",
       "      <td>use the primary index</td>\n",
       "      <td>Live</td>\n",
       "    </tr>\n",
       "  </tbody>\n",
       "</table>\n",
       "</div>"
      ],
      "text/plain": [
       "                                                     doc_body  \\\n",
       "article_id                                                      \n",
       "50          Follow Sign in / Sign up Home About Insight Da...   \n",
       "50          Follow Sign in / Sign up Home About Insight Da...   \n",
       "221         Homepage Follow Sign in / Sign up Homepage * H...   \n",
       "221         * United States\\r\\n\\r\\nIBM® * Site map\\r\\n\\r\\n...   \n",
       "232         Homepage Follow Sign in Get started Homepage *...   \n",
       "232         Homepage Follow Sign in Get started * Home\\r\\n...   \n",
       "398         Homepage Follow Sign in Get started * Home\\r\\n...   \n",
       "398         Homepage Follow Sign in Get started Homepage *...   \n",
       "577         This video shows you how to construct queries ...   \n",
       "577         This video shows you how to construct queries ...   \n",
       "\n",
       "                                              doc_description  \\\n",
       "article_id                                                      \n",
       "50          During the seven-week Insight Data Engineering...   \n",
       "50                               Community Detection at Scale   \n",
       "221         One of the earliest documented catalogs was co...   \n",
       "221         When used to make sense of huge amounts of con...   \n",
       "232         If you are like most data scientists, you are ...   \n",
       "232         If you are like most data scientists, you are ...   \n",
       "398         Today’s world of data science leverages data f...   \n",
       "398         Today’s world of data science leverages data f...   \n",
       "577         This video shows you how to construct queries ...   \n",
       "577         This video shows you how to construct queries ...   \n",
       "\n",
       "                                                doc_full_name doc_status  \n",
       "article_id                                                                \n",
       "50                               graph-based machine learning       Live  \n",
       "50                               graph-based machine learning       Live  \n",
       "221         how smart catalogs can turn the big data flood...       Live  \n",
       "221         how smart catalogs can turn the big data flood...       Live  \n",
       "232         self-service data preparation with ibm data re...       Live  \n",
       "232         self-service data preparation with ibm data re...       Live  \n",
       "398         using apache spark as a parallel processing fr...       Live  \n",
       "398         using apache spark as a parallel processing fr...       Live  \n",
       "577                                     use the primary index       Live  \n",
       "577                                     use the primary index       Live  "
      ]
     },
     "execution_count": 11,
     "metadata": {},
     "output_type": "execute_result"
    }
   ],
   "source": [
    "duplicated=df_content.set_index('article_id').sort_index()[dupes]\n",
    "print(duplicated.shape)\n",
    "duplicated"
   ]
  },
  {
   "cell_type": "code",
   "execution_count": 12,
   "metadata": {},
   "outputs": [
    {
     "name": "stdout",
     "output_type": "stream",
     "text": [
      "577\n",
      "doc_body           False\n",
      "doc_description    False\n",
      "doc_full_name       True\n",
      "doc_status          True\n",
      "Name: 577, dtype: bool\n",
      "232\n",
      "doc_body           False\n",
      "doc_description     True\n",
      "doc_full_name       True\n",
      "doc_status          True\n",
      "Name: 232, dtype: bool\n",
      "398\n",
      "doc_body           False\n",
      "doc_description     True\n",
      "doc_full_name       True\n",
      "doc_status          True\n",
      "Name: 398, dtype: bool\n",
      "50\n",
      "doc_body           False\n",
      "doc_description    False\n",
      "doc_full_name       True\n",
      "doc_status          True\n",
      "Name: 50, dtype: bool\n",
      "221\n",
      "doc_body           False\n",
      "doc_description    False\n",
      "doc_full_name       True\n",
      "doc_status          True\n",
      "Name: 221, dtype: bool\n"
     ]
    }
   ],
   "source": [
    "for idx in set(duplicated.index):\n",
    "    print(idx)\n",
    "    print(duplicated.loc[idx].iloc[0]==duplicated.loc[idx].iloc[1])"
   ]
  },
  {
   "cell_type": "code",
   "execution_count": 13,
   "metadata": {},
   "outputs": [],
   "source": [
    "# Remove any rows that have the same article_id - only keep the first\n",
    "df_content=df_content.sort_values('article_id').drop_duplicates('article_id',keep='first').set_index('article_id')"
   ]
  },
  {
   "cell_type": "code",
   "execution_count": 14,
   "metadata": {},
   "outputs": [
    {
     "name": "stdout",
     "output_type": "stream",
     "text": [
      "Number of viewed articles: 714\n",
      "Total number of articles: (1051, 4)\n",
      "Number of unique users: 5148\n",
      "Number of user_article interactions: (45993, 3)\n"
     ]
    }
   ],
   "source": [
    "#By the numbers\n",
    "print(f'Number of viewed articles: {article_view_counts.shape[0]}')\n",
    "print(f'Total number of articles: {df_content.shape}')\n",
    "print(f'Number of unique users: {user_view_counts.shape[0]}')\n",
    "print(f'Number of user_article interactions: {df.shape}')"
   ]
  },
  {
   "cell_type": "code",
   "execution_count": 15,
   "metadata": {},
   "outputs": [
    {
     "data": {
      "text/html": [
       "<div>\n",
       "<style scoped>\n",
       "    .dataframe tbody tr th:only-of-type {\n",
       "        vertical-align: middle;\n",
       "    }\n",
       "\n",
       "    .dataframe tbody tr th {\n",
       "        vertical-align: top;\n",
       "    }\n",
       "\n",
       "    .dataframe thead th {\n",
       "        text-align: right;\n",
       "    }\n",
       "</style>\n",
       "<table border=\"1\" class=\"dataframe\">\n",
       "  <thead>\n",
       "    <tr style=\"text-align: right;\">\n",
       "      <th></th>\n",
       "      <th>Views</th>\n",
       "    </tr>\n",
       "    <tr>\n",
       "      <th>article_id</th>\n",
       "      <th></th>\n",
       "    </tr>\n",
       "  </thead>\n",
       "  <tbody>\n",
       "    <tr>\n",
       "      <th>1429.0</th>\n",
       "      <td>937</td>\n",
       "    </tr>\n",
       "    <tr>\n",
       "      <th>1330.0</th>\n",
       "      <td>927</td>\n",
       "    </tr>\n",
       "    <tr>\n",
       "      <th>1431.0</th>\n",
       "      <td>671</td>\n",
       "    </tr>\n",
       "    <tr>\n",
       "      <th>1427.0</th>\n",
       "      <td>643</td>\n",
       "    </tr>\n",
       "    <tr>\n",
       "      <th>1364.0</th>\n",
       "      <td>627</td>\n",
       "    </tr>\n",
       "  </tbody>\n",
       "</table>\n",
       "</div>"
      ],
      "text/plain": [
       "            Views\n",
       "article_id       \n",
       "1429.0        937\n",
       "1330.0        927\n",
       "1431.0        671\n",
       "1427.0        643\n",
       "1364.0        627"
      ]
     },
     "execution_count": 15,
     "metadata": {},
     "output_type": "execute_result"
    }
   ],
   "source": [
    "#Most viewed articles\n",
    "article_view_counts.sort_values('Views', ascending=False).iloc[:5]"
   ]
  },
  {
   "cell_type": "markdown",
   "metadata": {},
   "source": [
    "We'll use the email hashes to identify users and then use the order in which users first appear to assign user ID's."
   ]
  },
  {
   "cell_type": "code",
   "execution_count": 16,
   "metadata": {},
   "outputs": [],
   "source": [
    "df=df[~df.email.isnull()]"
   ]
  },
  {
   "cell_type": "code",
   "execution_count": 17,
   "metadata": {},
   "outputs": [
    {
     "data": {
      "text/html": [
       "<div>\n",
       "<style scoped>\n",
       "    .dataframe tbody tr th:only-of-type {\n",
       "        vertical-align: middle;\n",
       "    }\n",
       "\n",
       "    .dataframe tbody tr th {\n",
       "        vertical-align: top;\n",
       "    }\n",
       "\n",
       "    .dataframe thead th {\n",
       "        text-align: right;\n",
       "    }\n",
       "</style>\n",
       "<table border=\"1\" class=\"dataframe\">\n",
       "  <thead>\n",
       "    <tr style=\"text-align: right;\">\n",
       "      <th></th>\n",
       "      <th>article_id</th>\n",
       "      <th>title</th>\n",
       "      <th>user_id</th>\n",
       "    </tr>\n",
       "  </thead>\n",
       "  <tbody>\n",
       "    <tr>\n",
       "      <th>0</th>\n",
       "      <td>1430.0</td>\n",
       "      <td>using pixiedust for fast, flexible, and easier...</td>\n",
       "      <td>1</td>\n",
       "    </tr>\n",
       "    <tr>\n",
       "      <th>1</th>\n",
       "      <td>1314.0</td>\n",
       "      <td>healthcare python streaming application demo</td>\n",
       "      <td>2</td>\n",
       "    </tr>\n",
       "    <tr>\n",
       "      <th>2</th>\n",
       "      <td>1429.0</td>\n",
       "      <td>use deep learning for image classification</td>\n",
       "      <td>3</td>\n",
       "    </tr>\n",
       "    <tr>\n",
       "      <th>3</th>\n",
       "      <td>1338.0</td>\n",
       "      <td>ml optimization using cognitive assistant</td>\n",
       "      <td>4</td>\n",
       "    </tr>\n",
       "    <tr>\n",
       "      <th>4</th>\n",
       "      <td>1276.0</td>\n",
       "      <td>deploy your python model as a restful api</td>\n",
       "      <td>5</td>\n",
       "    </tr>\n",
       "  </tbody>\n",
       "</table>\n",
       "</div>"
      ],
      "text/plain": [
       "   article_id                                              title  user_id\n",
       "0      1430.0  using pixiedust for fast, flexible, and easier...        1\n",
       "1      1314.0       healthcare python streaming application demo        2\n",
       "2      1429.0         use deep learning for image classification        3\n",
       "3      1338.0          ml optimization using cognitive assistant        4\n",
       "4      1276.0          deploy your python model as a restful api        5"
      ]
     },
     "execution_count": 17,
     "metadata": {},
     "output_type": "execute_result"
    }
   ],
   "source": [
    "def email_mapper():\n",
    "    coded_dict = dict()\n",
    "    cter = 1\n",
    "    email_encoded = []\n",
    "    \n",
    "    for val in df['email']:\n",
    "        if val not in coded_dict:\n",
    "            coded_dict[val] = cter\n",
    "            cter+=1\n",
    "        \n",
    "        email_encoded.append(coded_dict[val])\n",
    "    return email_encoded\n",
    "\n",
    "email_encoded = email_mapper()\n",
    "del df['email']\n",
    "df.loc[:,'user_id'] = email_encoded\n",
    "\n",
    "# show header\n",
    "df.head()"
   ]
  },
  {
   "cell_type": "code",
   "execution_count": 18,
   "metadata": {},
   "outputs": [],
   "source": [
    "def get_article_names(article_ids, df=df):\n",
    "    '''\n",
    "    INPUT:\n",
    "    article_ids - (list) a list of article ids\n",
    "    df - (pandas dataframe) df as defined at the top of the notebook\n",
    "    \n",
    "    OUTPUT:\n",
    "    article_names - (list) a list of article names associated with the list of article ids \n",
    "                    (this is identified by the title column)\n",
    "    '''\n",
    "    # Your code here\n",
    "    articles=df.set_index('article_id').loc[article_ids,'title'].drop_duplicates()\n",
    "    article_names=list(articles.values)\n",
    "    \n",
    "    return article_names"
   ]
  },
  {
   "cell_type": "markdown",
   "metadata": {},
   "source": [
    "### <a class=\"anchor\" id=\"Validation\">Part II: Validating our Methods</a>\n",
    "\n",
    "In order to test our recommendation systems we need to fix a validation set and a metric. Since we don't have any temporal data for the user-article interactions there isn't an obvious way to separate into train and validation sets. Similarly we can't know for sure if a user would have liked a recommendation, so we need a proxy to test against.\n",
    "\n",
    "We will construct the validation set by randomly partitioning the interactions of each user. We will then seek to recommend articles possesing interactions in the validation partition. We're mainly interested in recommendations for users for whom we already have data, so we will drop users with 7 or fewer (for 5 train, 2 test) interactions.\n",
    "\n",
    "There is a natural precision vs recall tradeoff to our recommendations. If we recommend all the articles we will certainly recommend all the validation articles. If we have a good recommender then we should expect that if we only recommend a few articles then a relatively high proportion will be 'correct'. As we increase the number of recommendations that precision should fall as the recall increase.\n",
    "\n",
    "The average (over the different users) area under this curve provides a suitable metric for recommender quality.\n",
    "\n",
    "It is not totally clear how to interpret the number of times a user has viewed an article in this context, so we will only use consider articles as viewed/not viewed. "
   ]
  },
  {
   "cell_type": "code",
   "execution_count": 19,
   "metadata": {},
   "outputs": [],
   "source": [
    "def create_user_item_matrix(df):\n",
    "    '''\n",
    "    INPUT:\n",
    "    df - pandas dataframe with article_id, title, user_id columns\n",
    "    \n",
    "    OUTPUT:\n",
    "    user_item - user item matrix \n",
    "    \n",
    "    Description:\n",
    "    Return a matrix with user ids as rows and article ids on the columns with 1 values where a user interacted with \n",
    "    an article and a 0 otherwise\n",
    "    '''\n",
    "    # Fill in the function here\n",
    "    user_item=df.groupby(['user_id', 'article_id']).apply(lambda x: 1).unstack().fillna(0)\n",
    "    \n",
    "    return user_item # return the user_item matrix \n",
    "\n",
    "user_item = create_user_item_matrix(df)"
   ]
  },
  {
   "cell_type": "code",
   "execution_count": 20,
   "metadata": {},
   "outputs": [],
   "source": [
    "##Collect user lists\n",
    "known_users=user_item.loc[:,:(df_content.shape[0]-1)].sum(axis=1) > 7 #Find suitable users for validation\n",
    "known_users=list(user_item[known_users].index)\n",
    "users=list(user_item.index) #All users"
   ]
  },
  {
   "cell_type": "code",
   "execution_count": 21,
   "metadata": {},
   "outputs": [],
   "source": [
    "user_train=user_item.loc[known_users,:(df_content.shape[0]-1)].copy()\n",
    "test={}\n",
    "seed=42\n",
    "\n",
    "for user in known_users:\n",
    "    interactions=user_train.loc[user]\n",
    "    interactions=interactions[interactions==1]\n",
    "\n",
    "    test[user]=list(interactions.sample(frac=0.25, random_state=seed).index)\n",
    "    user_train.loc[user,test[user]]=0\n",
    "    \n",
    "    seed= seed+1\n",
    "    \n",
    "#user_sim_mat_train=cosine_similarity(user_train)\n",
    "#user_sim_df_train=pd.DataFrame(user_sim_mat_train, columns=user_train.index, index=user_train.index)"
   ]
  },
  {
   "cell_type": "code",
   "execution_count": 22,
   "metadata": {},
   "outputs": [],
   "source": [
    "def evaluate_recommender(recommender, test=test, graph=True):\n",
    "    '''\n",
    "    Evaluates recommender against a test dictionary. Plots and outputs mean recall, precision and f1-scores.\n",
    "    Also prints and outputs precision/recall auc score.\n",
    "    '''\n",
    "    recalls_list=[]\n",
    "    precisions_list=[]\n",
    "\n",
    "    for user in test.keys():   \n",
    "        recs=recommender(user)\n",
    "    \n",
    "        precisions=[]\n",
    "        recalls=[]\n",
    "        is_pos=[rec in test[user] for rec in recs]\n",
    "    \n",
    "        for i in range(1,900):\n",
    "            n_true= sum(is_pos[:i])\n",
    "            precision= n_true/i\n",
    "            recall=n_true/len(test[user])\n",
    "        \n",
    "            precisions.append(precision)\n",
    "            recalls.append(recall)\n",
    "        \n",
    "        recalls_list.append(recalls)\n",
    "        precisions_list.append(precisions)\n",
    "    \n",
    "    mean_precisions=np.array([np.mean(x) for x in np.array(precisions_list).transpose()])\n",
    "    mean_recalls=np.array([np.mean(x) for x in np.array(recalls_list).transpose()])\n",
    "    f1_scores=2*(mean_precisions*mean_recalls)/(mean_precisions+mean_recalls)\n",
    "\n",
    "    pred_auc_score=auc(range(1,900), mean_precisions)      \n",
    "    recall_auc_score=auc(mean_recalls, mean_precisions)\n",
    "    \n",
    "    if graph:\n",
    "        f, axs = plt.subplots(2,2,figsize=(12,12))\n",
    "\n",
    "        xlim=100\n",
    "        plt.subplot(2,1,1)\n",
    "        plt.plot(range(1,xlim+1), mean_precisions[:xlim])\n",
    "        plt.plot(range(1,xlim+1), mean_recalls[:xlim])\n",
    "        plt.plot(range(1,xlim+1), f1_scores[:xlim])\n",
    "        plt.legend(['Precision', 'Recall', 'f1_score'])\n",
    "        plt.title('Precision, Recall and f1-score vs Number of Predictions')\n",
    "        plt.ylabel('Score')\n",
    "        plt.xlabel('Predictions')\n",
    "        print(f'Precision/Number of Predictions auc score: {pred_auc_score}')\n",
    "    \n",
    "        plt.subplot(2,1,2)    \n",
    "        plt.plot(mean_recalls, mean_precisions);\n",
    "        plt.title('Precision vs Recall')\n",
    "        plt.xlabel('Recall')\n",
    "        plt.ylabel('Precision')\n",
    "        print(f'Precision/Recall auc score: {recall_auc_score}')\n",
    "    return mean_precisions, mean_recalls, f1_scores, pred_auc_score, recall_auc_score"
   ]
  },
  {
   "cell_type": "markdown",
   "metadata": {},
   "source": [
    "### <a class=\"anchor\" id=\"Rank\">Part III: Rank-Based Recommendations</a>\n",
    "\n",
    "We don't  have ratings for whether a user liked an article or not.  We only know that a user has interacted with an article.  In these cases, the popularity of an article can really only be based on how often an article was interacted with. That said we do have a choice on how we calculate this. Some users interacted witht the same article several times, which we could choose to factor into our rankings.\n",
    "\n",
    "We don't do that here, mostly because it is not totally clear how the number of interactions should be interpreted. "
   ]
  },
  {
   "cell_type": "code",
   "execution_count": 23,
   "metadata": {},
   "outputs": [
    {
     "data": {
      "text/plain": [
       "article_id\n",
       "1330.0    467\n",
       "1429.0    397\n",
       "1364.0    388\n",
       "1314.0    345\n",
       "1398.0    329\n",
       "         ... \n",
       "974.0       1\n",
       "1233.0      1\n",
       "1237.0      1\n",
       "1266.0      1\n",
       "1119.0      1\n",
       "Length: 714, dtype: int64"
      ]
     },
     "execution_count": 23,
     "metadata": {},
     "output_type": "execute_result"
    }
   ],
   "source": [
    "(user_item > 0).sum().sort_values(ascending=False)"
   ]
  },
  {
   "cell_type": "code",
   "execution_count": 24,
   "metadata": {},
   "outputs": [],
   "source": [
    "def get_top_articles(n, user_item=user_train):\n",
    "    '''\n",
    "    INPUT:\n",
    "    n - (int) the number of top articles to return\n",
    "    user_item - (pandas dataframe) user-article interactions maatrix \n",
    "    \n",
    "    OUTPUT:\n",
    "    top_articles - (list) A list of the top 'n' article titles \n",
    "    \n",
    "    '''\n",
    "    # Your code here\n",
    "    article_view_counts=(user_item > 0).sum().sort_values(ascending=False)\n",
    "    top_articles=article_view_counts.head(n).index\n",
    "    return list(top_articles) # Return the top article titles from df (not df_content)\n",
    "\n",
    "def rank_recommender(user,n,  user_item=user_train):\n",
    "    '''\n",
    "    INPUT:\n",
    "    user - (str) user for recommendations\n",
    "    n - (int) the number of recommendations to return\n",
    "    user_item - (pandas dataframe) user-article interactions maatrix \n",
    "    \n",
    "    OUTPUT:\n",
    "    recommendations - (list) A list of the top 'n' recommendations by popularity \n",
    "    \n",
    "    '''\n",
    "    \n",
    "    return get_top_articles(n, user_train)\n",
    "    "
   ]
  },
  {
   "cell_type": "code",
   "execution_count": 25,
   "metadata": {},
   "outputs": [
    {
     "data": {
      "text/plain": [
       "['deep learning with tensorflow course by big data university',\n",
       " 'python machine learning: scikit-learn tutorial',\n",
       " 'jupyter notebook tutorial',\n",
       " 'learn tensorflow and deep learning together and now!',\n",
       " 'the machine learning database',\n",
       " 'real-time sentiment analysis of twitter hashtags with spark (+ pixiedust)',\n",
       " 'tensorflow quick tips',\n",
       " 'access ibm analytics for apache spark from rstudio',\n",
       " 'practical tutorial on random forest and parameter tuning in r',\n",
       " 'working interactively with rstudio and notebooks in dsx']"
      ]
     },
     "execution_count": 25,
     "metadata": {},
     "output_type": "execute_result"
    }
   ],
   "source": [
    "get_article_names(get_top_articles(10))"
   ]
  },
  {
   "cell_type": "code",
   "execution_count": 26,
   "metadata": {},
   "outputs": [
    {
     "name": "stdout",
     "output_type": "stream",
     "text": [
      "Precision/Number of Predictions auc score: 10.328913413075844\n",
      "Precision/Recall auc score: 0.026456169308988975\n"
     ]
    },
    {
     "data": {
      "image/png": "[encoded data removed]",
      "text/plain": [
       "<Figure size 864x864 with 2 Axes>"
      ]
     },
     "metadata": {
      "needs_background": "light"
     },
     "output_type": "display_data"
    }
   ],
   "source": [
    "recommender= lambda user: rank_recommender(user,-1, user_train)\n",
    "evaluate_recommender(recommender,test);"
   ]
  },
  {
   "cell_type": "markdown",
   "metadata": {},
   "source": [
    "The performance here doesn't seem to be great, but it serves as baseline comparison for other methods."
   ]
  },
  {
   "cell_type": "markdown",
   "metadata": {},
   "source": [
    "### <a class=\"anchor\" id=\"User-User\">Part IV: User-User Based Collaborative Filtering</a>\n",
    "\n",
    "Rather than just using the popularity of each article, we seek to find articles which are popular with 'similar' users. Since we don't have much information about the users we'll measure their similarity based upon their viewing habits. More specifically the similarity of two users will be the cosine angle between their corresponding row vectors in the training user-interaction matrix."
   ]
  },
  {
   "cell_type": "code",
   "execution_count": 27,
   "metadata": {},
   "outputs": [
    {
     "data": {
      "text/html": [
       "<div>\n",
       "<style scoped>\n",
       "    .dataframe tbody tr th:only-of-type {\n",
       "        vertical-align: middle;\n",
       "    }\n",
       "\n",
       "    .dataframe tbody tr th {\n",
       "        vertical-align: top;\n",
       "    }\n",
       "\n",
       "    .dataframe thead th {\n",
       "        text-align: right;\n",
       "    }\n",
       "</style>\n",
       "<table border=\"1\" class=\"dataframe\">\n",
       "  <thead>\n",
       "    <tr style=\"text-align: right;\">\n",
       "      <th></th>\n",
       "      <th>1</th>\n",
       "      <th>2</th>\n",
       "      <th>3</th>\n",
       "      <th>4</th>\n",
       "      <th>5</th>\n",
       "      <th>6</th>\n",
       "      <th>7</th>\n",
       "      <th>8</th>\n",
       "      <th>9</th>\n",
       "      <th>10</th>\n",
       "      <th>...</th>\n",
       "      <th>5139</th>\n",
       "      <th>5140</th>\n",
       "      <th>5141</th>\n",
       "      <th>5142</th>\n",
       "      <th>5143</th>\n",
       "      <th>5144</th>\n",
       "      <th>5145</th>\n",
       "      <th>5146</th>\n",
       "      <th>5147</th>\n",
       "      <th>5148</th>\n",
       "    </tr>\n",
       "  </thead>\n",
       "  <tbody>\n",
       "    <tr>\n",
       "      <th>1</th>\n",
       "      <td>1.000000</td>\n",
       "      <td>0.136083</td>\n",
       "      <td>0.158114</td>\n",
       "      <td>0.098058</td>\n",
       "      <td>0.000000</td>\n",
       "      <td>0.157135</td>\n",
       "      <td>0.117851</td>\n",
       "      <td>0.132453</td>\n",
       "      <td>0.121716</td>\n",
       "      <td>0.267652</td>\n",
       "      <td>...</td>\n",
       "      <td>0.138458</td>\n",
       "      <td>0.0</td>\n",
       "      <td>0.0</td>\n",
       "      <td>0.157135</td>\n",
       "      <td>0.0</td>\n",
       "      <td>0.074536</td>\n",
       "      <td>0.000000</td>\n",
       "      <td>0.0</td>\n",
       "      <td>0.000000</td>\n",
       "      <td>0.0</td>\n",
       "    </tr>\n",
       "    <tr>\n",
       "      <th>2</th>\n",
       "      <td>0.136083</td>\n",
       "      <td>1.000000</td>\n",
       "      <td>0.064550</td>\n",
       "      <td>0.240192</td>\n",
       "      <td>0.000000</td>\n",
       "      <td>0.192450</td>\n",
       "      <td>0.000000</td>\n",
       "      <td>0.054074</td>\n",
       "      <td>0.149071</td>\n",
       "      <td>0.374634</td>\n",
       "      <td>...</td>\n",
       "      <td>0.096900</td>\n",
       "      <td>0.0</td>\n",
       "      <td>0.0</td>\n",
       "      <td>0.000000</td>\n",
       "      <td>0.0</td>\n",
       "      <td>0.182574</td>\n",
       "      <td>0.000000</td>\n",
       "      <td>0.0</td>\n",
       "      <td>0.000000</td>\n",
       "      <td>0.0</td>\n",
       "    </tr>\n",
       "    <tr>\n",
       "      <th>3</th>\n",
       "      <td>0.158114</td>\n",
       "      <td>0.064550</td>\n",
       "      <td>1.000000</td>\n",
       "      <td>0.155043</td>\n",
       "      <td>0.091287</td>\n",
       "      <td>0.260875</td>\n",
       "      <td>0.111803</td>\n",
       "      <td>0.104713</td>\n",
       "      <td>0.057735</td>\n",
       "      <td>0.181369</td>\n",
       "      <td>...</td>\n",
       "      <td>0.131353</td>\n",
       "      <td>0.0</td>\n",
       "      <td>0.0</td>\n",
       "      <td>0.186339</td>\n",
       "      <td>0.0</td>\n",
       "      <td>0.141421</td>\n",
       "      <td>0.000000</td>\n",
       "      <td>0.0</td>\n",
       "      <td>0.000000</td>\n",
       "      <td>0.0</td>\n",
       "    </tr>\n",
       "    <tr>\n",
       "      <th>4</th>\n",
       "      <td>0.098058</td>\n",
       "      <td>0.240192</td>\n",
       "      <td>0.155043</td>\n",
       "      <td>1.000000</td>\n",
       "      <td>0.339683</td>\n",
       "      <td>0.369800</td>\n",
       "      <td>0.000000</td>\n",
       "      <td>0.207810</td>\n",
       "      <td>0.035806</td>\n",
       "      <td>0.179969</td>\n",
       "      <td>...</td>\n",
       "      <td>0.139648</td>\n",
       "      <td>0.0</td>\n",
       "      <td>0.0</td>\n",
       "      <td>0.092450</td>\n",
       "      <td>0.0</td>\n",
       "      <td>0.175412</td>\n",
       "      <td>0.074125</td>\n",
       "      <td>0.0</td>\n",
       "      <td>0.196116</td>\n",
       "      <td>0.0</td>\n",
       "    </tr>\n",
       "    <tr>\n",
       "      <th>5</th>\n",
       "      <td>0.000000</td>\n",
       "      <td>0.000000</td>\n",
       "      <td>0.091287</td>\n",
       "      <td>0.339683</td>\n",
       "      <td>1.000000</td>\n",
       "      <td>0.136083</td>\n",
       "      <td>0.000000</td>\n",
       "      <td>0.229416</td>\n",
       "      <td>0.000000</td>\n",
       "      <td>0.000000</td>\n",
       "      <td>...</td>\n",
       "      <td>0.000000</td>\n",
       "      <td>0.0</td>\n",
       "      <td>0.0</td>\n",
       "      <td>0.000000</td>\n",
       "      <td>0.0</td>\n",
       "      <td>0.000000</td>\n",
       "      <td>0.000000</td>\n",
       "      <td>0.0</td>\n",
       "      <td>0.000000</td>\n",
       "      <td>0.0</td>\n",
       "    </tr>\n",
       "  </tbody>\n",
       "</table>\n",
       "<p>5 rows × 5148 columns</p>\n",
       "</div>"
      ],
      "text/plain": [
       "       1         2         3         4         5         6         7     \\\n",
       "1  1.000000  0.136083  0.158114  0.098058  0.000000  0.157135  0.117851   \n",
       "2  0.136083  1.000000  0.064550  0.240192  0.000000  0.192450  0.000000   \n",
       "3  0.158114  0.064550  1.000000  0.155043  0.091287  0.260875  0.111803   \n",
       "4  0.098058  0.240192  0.155043  1.000000  0.339683  0.369800  0.000000   \n",
       "5  0.000000  0.000000  0.091287  0.339683  1.000000  0.136083  0.000000   \n",
       "\n",
       "       8         9         10    ...      5139  5140  5141      5142  5143  \\\n",
       "1  0.132453  0.121716  0.267652  ...  0.138458   0.0   0.0  0.157135   0.0   \n",
       "2  0.054074  0.149071  0.374634  ...  0.096900   0.0   0.0  0.000000   0.0   \n",
       "3  0.104713  0.057735  0.181369  ...  0.131353   0.0   0.0  0.186339   0.0   \n",
       "4  0.207810  0.035806  0.179969  ...  0.139648   0.0   0.0  0.092450   0.0   \n",
       "5  0.229416  0.000000  0.000000  ...  0.000000   0.0   0.0  0.000000   0.0   \n",
       "\n",
       "       5144      5145  5146      5147  5148  \n",
       "1  0.074536  0.000000   0.0  0.000000   0.0  \n",
       "2  0.182574  0.000000   0.0  0.000000   0.0  \n",
       "3  0.141421  0.000000   0.0  0.000000   0.0  \n",
       "4  0.175412  0.074125   0.0  0.196116   0.0  \n",
       "5  0.000000  0.000000   0.0  0.000000   0.0  \n",
       "\n",
       "[5 rows x 5148 columns]"
      ]
     },
     "execution_count": 27,
     "metadata": {},
     "output_type": "execute_result"
    }
   ],
   "source": [
    "#User similarities for collaborative recommender reimplementation\n",
    "user_sim_mat=cosine_similarity(user_item)\n",
    "user_sim_df=pd.DataFrame(user_sim_mat, columns=users, index=users)\n",
    "\n",
    "user_sim_mat_train=cosine_similarity(user_train)\n",
    "user_sim_df_train=pd.DataFrame(user_sim_mat_train, columns=user_train.index, index=user_train.index)\n",
    "\n",
    "user_sim_df.head()"
   ]
  },
  {
   "cell_type": "code",
   "execution_count": 28,
   "metadata": {},
   "outputs": [],
   "source": [
    "def user_seen(user, user_item):\n",
    "    interactions=user_item.loc[user]\n",
    "    seen=list(interactions[interactions ==1].index)\n",
    "    return seen\n",
    "\n",
    "def user_user_ranked_item(user,user_sim_df=user_sim_df, user_item=user_item, seen=False):\n",
    "    '''Returns user interaction matrix orderd by user cosine similarity for unseen articles'''\n",
    "    user_sims=user_sim_df[user].sort_values(ascending=False).drop(user)\n",
    "    \n",
    "    if not seen:\n",
    "        seen = user_seen(user, user_item)\n",
    "    \n",
    "    ranked_item=user_item.copy().drop(seen, axis=1)\n",
    "    ranked_item=ranked_item.reindex(user_sims.index)\n",
    "    \n",
    "    return ranked_item\n",
    "\n",
    "def user_user_scores(ranked_item, weights):\n",
    "    '''Calculates scores as weighted sum of article interactions'''\n",
    "    scores=pd.Series(np.array(weights*ranked_item.values)[0], index=ranked_item.columns)\n",
    "    return scores.sort_values(ascending=False)\n",
    "\n",
    "\n",
    "def user_user_recs(user, n, ranked_item, decay=-1):\n",
    "       \n",
    "    weights=np.matrix([2**(decay*i) for i in range(0,ranked_item.shape[0])])/2\n",
    "    scores=pd.Series(np.array(weights*ranked_item.values)[0], index=ranked_item.columns)\n",
    "    scores=scores.sort_values(ascending=False)\n",
    "    \n",
    "    return list(scores.index[:n])\n",
    "\n",
    "def make_user_user_recs(user, n, user_sim_df=user_sim_df, user_item=user_item, decay=-1, seen=False):\n",
    "    \n",
    "    '''\n",
    "    Makes collobarative recommendations.\n",
    "    \n",
    "    Ranks other users by similarities. User/article interactions are then weighted by user rank and aggregated.\n",
    "    \n",
    "    INPUT:\n",
    "    user- (int) target of recommendations\n",
    "    n - (int) number of recommendations\n",
    "    user_sim_df - (df) user  similarity matrix\n",
    "    user_item - user/item interaction matrix\n",
    "    decay - (float) Decay of score contribution interactions, user rank n has weight 2**(n*decay)  \n",
    "    OUTPUT:\n",
    "    \n",
    "    recommendations - list(int) ID's of recommended articles\n",
    "    '''\n",
    "    \n",
    "    ranked_item=user_user_ranked_item(user,user_sim_df, user_item, seen)\n",
    "    \n",
    "    return user_user_recs(user, n, ranked_item, decay)"
   ]
  },
  {
   "cell_type": "code",
   "execution_count": 29,
   "metadata": {},
   "outputs": [],
   "source": [
    "def user_seen(user, user_item):\n",
    "    interactions=user_item.loc[user]\n",
    "    seen=list(interactions[interactions ==1].index)\n",
    "    return seen"
   ]
  },
  {
   "cell_type": "markdown",
   "metadata": {},
   "source": [
    "This is a slightly weird way of putting the recommender together but it lets us store the ranked_item matrices and quickly churn out recommendations with different rates of decay for comparison."
   ]
  },
  {
   "cell_type": "code",
   "execution_count": 30,
   "metadata": {},
   "outputs": [
    {
     "data": {
      "text/plain": [
       "['model bike sharing data with spss',\n",
       " 'pixieapp for outlier detection',\n",
       " 'the pandas data analysis library',\n",
       " 'use sql with data in hadoop python',\n",
       " 'workflow in r',\n",
       " 'the nurse assignment problem',\n",
       " 'predicting churn with the spss random tree algorithm',\n",
       " 'analyze energy consumption in buildings',\n",
       " 'analyze open data sets with pandas dataframes',\n",
       " 'access mysql with r']"
      ]
     },
     "execution_count": 30,
     "metadata": {},
     "output_type": "execute_result"
    }
   ],
   "source": [
    "get_article_names(make_user_user_recs(1,10))"
   ]
  },
  {
   "cell_type": "code",
   "execution_count": 31,
   "metadata": {},
   "outputs": [],
   "source": [
    "user_ranked_items={user:user_user_ranked_item(user,\n",
    "                    user_sim_df_train, user_train) for user in user_train.index\n",
    "                    }\n"
   ]
  },
  {
   "cell_type": "code",
   "execution_count": 32,
   "metadata": {},
   "outputs": [
    {
     "data": {
      "text/html": [
       "<div>\n",
       "<style scoped>\n",
       "    .dataframe tbody tr th:only-of-type {\n",
       "        vertical-align: middle;\n",
       "    }\n",
       "\n",
       "    .dataframe tbody tr th {\n",
       "        vertical-align: top;\n",
       "    }\n",
       "\n",
       "    .dataframe thead th {\n",
       "        text-align: right;\n",
       "    }\n",
       "</style>\n",
       "<table border=\"1\" class=\"dataframe\">\n",
       "  <thead>\n",
       "    <tr style=\"text-align: right;\">\n",
       "      <th></th>\n",
       "      <th>pred_auc_score</th>\n",
       "      <th>recall_auc_score</th>\n",
       "    </tr>\n",
       "  </thead>\n",
       "  <tbody>\n",
       "    <tr>\n",
       "      <th>-1.000000</th>\n",
       "      <td>18.795881</td>\n",
       "      <td>0.309319</td>\n",
       "    </tr>\n",
       "    <tr>\n",
       "      <th>-0.900000</th>\n",
       "      <td>18.774482</td>\n",
       "      <td>0.309079</td>\n",
       "    </tr>\n",
       "    <tr>\n",
       "      <th>-0.909091</th>\n",
       "      <td>18.781202</td>\n",
       "      <td>0.309065</td>\n",
       "    </tr>\n",
       "    <tr>\n",
       "      <th>-0.888889</th>\n",
       "      <td>18.772767</td>\n",
       "      <td>0.309040</td>\n",
       "    </tr>\n",
       "    <tr>\n",
       "      <th>-0.875000</th>\n",
       "      <td>18.745098</td>\n",
       "      <td>0.306737</td>\n",
       "    </tr>\n",
       "    <tr>\n",
       "      <th>-0.857143</th>\n",
       "      <td>18.735959</td>\n",
       "      <td>0.306558</td>\n",
       "    </tr>\n",
       "    <tr>\n",
       "      <th>-0.833333</th>\n",
       "      <td>18.720591</td>\n",
       "      <td>0.305374</td>\n",
       "    </tr>\n",
       "    <tr>\n",
       "      <th>-0.800000</th>\n",
       "      <td>18.704040</td>\n",
       "      <td>0.303952</td>\n",
       "    </tr>\n",
       "    <tr>\n",
       "      <th>-0.750000</th>\n",
       "      <td>18.664876</td>\n",
       "      <td>0.303774</td>\n",
       "    </tr>\n",
       "    <tr>\n",
       "      <th>-0.666667</th>\n",
       "      <td>18.303487</td>\n",
       "      <td>0.272919</td>\n",
       "    </tr>\n",
       "    <tr>\n",
       "      <th>-0.500000</th>\n",
       "      <td>17.919879</td>\n",
       "      <td>0.246878</td>\n",
       "    </tr>\n",
       "  </tbody>\n",
       "</table>\n",
       "</div>"
      ],
      "text/plain": [
       "           pred_auc_score  recall_auc_score\n",
       "-1.000000       18.795881          0.309319\n",
       "-0.900000       18.774482          0.309079\n",
       "-0.909091       18.781202          0.309065\n",
       "-0.888889       18.772767          0.309040\n",
       "-0.875000       18.745098          0.306737\n",
       "-0.857143       18.735959          0.306558\n",
       "-0.833333       18.720591          0.305374\n",
       "-0.800000       18.704040          0.303952\n",
       "-0.750000       18.664876          0.303774\n",
       "-0.666667       18.303487          0.272919\n",
       "-0.500000       17.919879          0.246878"
      ]
     },
     "execution_count": 32,
     "metadata": {},
     "output_type": "execute_result"
    }
   ],
   "source": [
    "results=dict()\n",
    "\n",
    "for i in [-1]+[-1+1/k for k in range(2,12)]:\n",
    "    recommender= lambda user: user_user_recs(user,-1, user_ranked_items[user], decay=i)\n",
    "    results[i]=list(evaluate_recommender(recommender,test, graph=False))[-2:]\n",
    "    \n",
    "results=pd.DataFrame(results, index=['pred_auc_score', 'recall_auc_score']).transpose(\n",
    "        ).sort_values('recall_auc_score', ascending=False)\n",
    "results"
   ]
  },
  {
   "cell_type": "markdown",
   "metadata": {},
   "source": [
    "It looks like performance is about the same for a decay close to $-1$, and better here than the other options, so it's pretty natural to work with this. The performance here is much better than the rank based method (which corresponds to decay=0). "
   ]
  },
  {
   "cell_type": "code",
   "execution_count": 33,
   "metadata": {},
   "outputs": [
    {
     "name": "stdout",
     "output_type": "stream",
     "text": [
      "Precision/Number of Predictions auc score: 18.795880943998313\n",
      "Precision/Recall auc score: 0.3093191668213908\n"
     ]
    },
    {
     "data": {
      "image/png": "[encoded data removed]",
      "text/plain": [
       "<Figure size 864x864 with 2 Axes>"
      ]
     },
     "metadata": {
      "needs_background": "light"
     },
     "output_type": "display_data"
    }
   ],
   "source": [
    "recommender= lambda user: user_user_recs(user,-1, user_ranked_items[user], decay=-1)\n",
    "evaluate_recommender(recommender,test);"
   ]
  },
  {
   "cell_type": "markdown",
   "metadata": {},
   "source": [
    "### <a class=\"anchor\" id=\"Content-Recs\">Part V: Content Based Recommendations</a>\n",
    "\n",
    "Another method we might use to make recommendations is to use some kind of content based analysis. As an example we will tokenize the text data associated to each article and construct a cosine similarity matrix for the articles. This will then be used to find similar articles to those the user has already read.\n",
    "\n",
    "This method will be the most involved of the options, but roughly speaking it be done by tokenization with nltk, followed by using Tfidf on the resulting word counts. The main addition to the basic nltk tokenisation is to label words with a suffix depnding on where they come from (body/description/name) and to include a basic url parser to identify websites linked to."
   ]
  },
  {
   "cell_type": "code",
   "execution_count": 34,
   "metadata": {},
   "outputs": [],
   "source": [
    "def extract_url_data(url):\n",
    "    \"\"\"Extract hostname and path from url if possible\"\"\"\n",
    "    dat=urlparse(url)\n",
    "    if dat.hostname:\n",
    "        return [x for x in [dat.hostname.strip('www.'), dat.path.strip('/')] if x]\n",
    "    else:\n",
    "        dat=urlparse('//'+url)\n",
    "        return [x for x in [dat.hostname.strip('www.'), dat.path.strip('/')] if x]\n",
    "url_pattern = r\"(?i)\\b((?:[a-z][\\w-]+:(?:/{1,3}|[a-z0-9%])|www\\d{0,3}[.]|[a-z0-9.\\-]+[.][a-z]{2,4}/)(?:[^\\s()<>]+|\\(([^\\s()<>]+|(\\([^\\s()<>]+\\)))*\\))+(?:\\(([^\\s()<>]+|(\\([^\\s()<>]+\\)))*\\)|[^\\s`!()\\[\\]{};:\\'\\\".,<>?«»“”‘’]))\"\n",
    "stopWords=stopwords.words('english')\n",
    "lemmatizer = WordNetLemmatizer()\n",
    "\n",
    "def get_wordnet_pos(tag):\n",
    "    \"\"\" Pos tag to Wordnet tag \"\"\"\n",
    "    tag=tag[0].upper()\n",
    "    if tag == 'J':\n",
    "        return wordnet.ADJ\n",
    "    elif tag == 'V':\n",
    "        return wordnet.VERB\n",
    "    elif tag == 'N':\n",
    "        return wordnet.NOUN\n",
    "    elif tag == 'R':\n",
    "        return wordnet.ADV\n",
    "    else:\n",
    "        return wordnet.NOUN"
   ]
  },
  {
   "cell_type": "code",
   "execution_count": 35,
   "metadata": {},
   "outputs": [],
   "source": [
    "def tokenize(text, suffix=''):\n",
    "    \"\"\"Clean and tokenize text, then lemmatize. Label with suffix if given\"\"\"\n",
    "    text = text.lower()\n",
    "\n",
    "    ##urls\n",
    "    text=re.sub(r\"\\[|\\]\", ' ', text) #They break the regex for some reason\n",
    "\n",
    "    matcher= re.compile(url_pattern)\n",
    "    urls=[match.group() for match in matcher.finditer(text)]\n",
    "    for url in urls:\n",
    "        text=text.replace(url, ' ', 1)\n",
    "\n",
    "    url_tokens=sum([extract_url_data(url) for url in urls], [])\n",
    "\n",
    "    ##Remove punctuation and tokenize\n",
    "    text = re.sub(r\"[^a-zA-Z]\", \" \", text)\n",
    "\n",
    "    word_tokens=word_tokenize(text)\n",
    "    ##Lemmatise\n",
    "    word_tokens = [lemmatizer.lemmatize(word,get_wordnet_pos(tag)) for word,tag in pos_tag(word_tokens) if word not in stopWords]\n",
    "    #word_tokens = [lemmatizer.lemmatize(word) for word in word_tokens if word not in stopWords]\n",
    "    return [token+suffix for token in (url_tokens+word_tokens)]\n",
    "\n",
    "def tokenizer(suffix):\n",
    "    '''Tokenize wrapper'''\n",
    "    return (lambda text: quick_tokenize(text,suffix=suffix))\n",
    "\n",
    "def quick_tokenize(text, suffix=''):\n",
    "    \"\"\"Clean and tokenize text, then lemmatize\"\"\"\n",
    "    text = text.lower()\n",
    "\n",
    "    ##Remove punctuation and tokenize\n",
    "    text = re.sub(r\"[^a-zA-Z]\", \" \", text)\n",
    "\n",
    "    word_tokens=word_tokenize(text)\n",
    "    ##Lemmatise\n",
    "    word_tokens = [lemmatizer.lemmatize(word,get_wordnet_pos(tag)) for word,tag in pos_tag(word_tokens) if word not in stopWords]\n",
    "    #word_tokens = [lemmatizer.lemmatize(word) for word in word_tokens if word not in stopWords]\n",
    "    return [token+suffix for token in word_tokens]"
   ]
  },
  {
   "cell_type": "code",
   "execution_count": 36,
   "metadata": {},
   "outputs": [],
   "source": [
    "def transformer(suffix,vect=None):\n",
    "    '''Make feature pipeline for text tokenisation'''\n",
    "    if vect==None:\n",
    "        vect=CountVectorizer(tokenizer=tokenizer(suffix))\n",
    "        \n",
    "    features=Pipeline([('pull_column', FunctionTransformer(lambda df : df['doc'+suffix], validate=False)),\n",
    "                           ('vect', vect)])\n",
    "    return features"
   ]
  },
  {
   "cell_type": "code",
   "execution_count": 37,
   "metadata": {},
   "outputs": [],
   "source": [
    "df_content.fillna('', inplace=True)"
   ]
  },
  {
   "cell_type": "code",
   "execution_count": 38,
   "metadata": {},
   "outputs": [],
   "source": [
    "def build_transformer(X, suffixes=['_body', '_description', '_full_name']):\n",
    "    '''Text vectoriser + tfidf transform for given suffixes'''\n",
    "    if len(suffixes) > 1:\n",
    "        text_transformer=FeatureUnion([('transformer'+suffix,transformer(suffix)) for suffix in suffixes])\n",
    "    else:\n",
    "        text_transformer=transformer(suffixes[0])\n",
    "        \n",
    "    pipe=Pipeline([('text_vects', text_transformer),\n",
    "                            ('tfidf', TfidfTransformer())])    \n",
    "    X=pipe.fit_transform(X)\n",
    "    return X, pipe\n",
    "\n",
    "tfidf_df, text_transformer=build_transformer(df_content)"
   ]
  },
  {
   "cell_type": "code",
   "execution_count": 39,
   "metadata": {},
   "outputs": [],
   "source": [
    "art_sim_mat=cosine_similarity(tfidf_df)\n",
    "art_sim_df=pd.DataFrame(art_sim_mat, columns=df_content.index, index=df_content.index)"
   ]
  },
  {
   "cell_type": "code",
   "execution_count": 40,
   "metadata": {},
   "outputs": [],
   "source": [
    "def build_keyword_transformer(X, suffixes=['_body', '_description'], key_suffix='_full_name'):\n",
    "    '''Build, fit and transform keyword tranformer'''\n",
    "    \n",
    "    \n",
    "    vect=CountVectorizer(tokenizer=tokenizer(key_suffix))\n",
    "\n",
    "    key_transformer=transformer(key_suffix, vect)\n",
    "    \n",
    "    key_transformer.fit(X)\n",
    "    \n",
    "    key_word_transformer=FeatureUnion([('transformer'+key_suffix, key_transformer)]+\n",
    "                                          [('transformer'+suffix,transformer(suffix, vect)) for suffix in suffixes])\n",
    "    \n",
    "\n",
    "    tfidf=TfidfTransformer()\n",
    "    \n",
    "    X_count=key_word_transformer.transform(X)\n",
    "    \n",
    "    X_tfidf=tfidf.fit_transform(X_count)\n",
    "    \n",
    "    pipe=Pipeline([('key_word_vects', key_word_transformer),\n",
    "                            ('tfidf', tfidf)]) \n",
    "    \n",
    "    return X_tfidf, pipe\n",
    "\n",
    "#tfidf_df, text_transformer=build_keyword_transformer(df_content)"
   ]
  },
  {
   "cell_type": "code",
   "execution_count": 41,
   "metadata": {},
   "outputs": [],
   "source": [
    "def content_angle_recs(seen,sim_df=art_sim_df, agg=lambda x: x.mean(axis=1)):\n",
    "    '''Content recommender based on cosine similarity'''\n",
    "    \n",
    "    unseen_sim=sim_df.drop(seen).loc[:,seen]\n",
    "    agg_sim=agg(unseen_sim).sort_values(ascending=False)\n",
    "    \n",
    "    return agg_sim\n",
    "def make_content_angle_recs(user, n, sim_df=art_sim_df, user_item=user_item, agg=lambda x: x.mean(axis=1)):\n",
    "    '''\n",
    "    Makes content recommendations.\n",
    "    \n",
    "    INPUT:\n",
    "    user- (int) target of recommendations\n",
    "    n - (int) number of recommendations\n",
    "    sim_df - (df) article similarity matrix\n",
    "    user_item - user/item interaction matrix\n",
    "    agg = (row -> float) method for aggregating similarity scores\n",
    "    \n",
    "    OUTPUT:\n",
    "    (list) n content based recommendations for user\n",
    "    \n",
    "    '''\n",
    "    user_item=user_item.reindex(art_sim_df.columns, axis=1).dropna(axis=1)\n",
    "    interactions=user_item.loc[user]\n",
    "    seen=list(interactions[interactions ==1].index)\n",
    "    agg_sim=content_angle_recs(seen, sim_df=sim_df, agg=lambda x: x.mean(axis=1))\n",
    "    \n",
    "    return list(agg_sim.index)[:n]"
   ]
  },
  {
   "cell_type": "code",
   "execution_count": 42,
   "metadata": {},
   "outputs": [
    {
     "data": {
      "text/plain": [
       "['python machine learning: scikit-learn tutorial',\n",
       " '10 powerful features on watson data platform, no coding necessary',\n",
       " 'breaking the 80/20 rule: how data catalogs transform data scientists’ productivity',\n",
       " 'data tidying in data science experience',\n",
       " 'make machine learning a reality for your enterprise',\n",
       " 'machine learning for the enterprise',\n",
       " 'predicting flight cancellations using weather data, part 3',\n",
       " 'jupyter notebooks with scala, python, or r kernels',\n",
       " 'learn tensorflow and deep learning together and now!',\n",
       " 'continuous learning on watson']"
      ]
     },
     "execution_count": 42,
     "metadata": {},
     "output_type": "execute_result"
    }
   ],
   "source": [
    "get_article_names(make_content_angle_recs(1,10)) #Example"
   ]
  },
  {
   "cell_type": "code",
   "execution_count": 43,
   "metadata": {},
   "outputs": [],
   "source": [
    "#tfidf_df, text_transformer=build_transformer(df_content,suffixes=['_description', '_full_name'])\n",
    "art_sim_mat_train=cosine_similarity(tfidf_df)\n",
    "art_sim_df_train=pd.DataFrame(art_sim_mat_train, columns=df_content.index, index=df_content.index)\n",
    "art_sim_df_train=art_sim_df_train.loc[user_train.columns, user_train.columns]"
   ]
  },
  {
   "cell_type": "code",
   "execution_count": 44,
   "metadata": {},
   "outputs": [
    {
     "name": "stdout",
     "output_type": "stream",
     "text": [
      "Precision/Number of Predictions auc score: 7.632642888288499\n",
      "Precision/Recall auc score: 0.011919045573957796\n"
     ]
    },
    {
     "data": {
      "image/png": "[encoded data removed]",
      "text/plain": [
       "<Figure size 864x864 with 2 Axes>"
      ]
     },
     "metadata": {
      "needs_background": "light"
     },
     "output_type": "display_data"
    }
   ],
   "source": [
    "recommender =lambda user: make_content_angle_recs(user,-1, art_sim_df_train, user_train)\n",
    "evaluate_recommender(recommender);"
   ]
  },
  {
   "cell_type": "markdown",
   "metadata": {},
   "source": [
    "We can improve the perfomance somewhat by using only the description and name of the article. This more closely mirrors how people choose to read articles, plus the content data is not very clean. If we load up the article body below, for instance, we see that there's a bunch of stuff at the bottom which is totally irrelevant to the actual article.\n",
    "\n",
    "Unfortunately there doesn't seem to be any overarching rules for where this kind of unhelpful content comes in the document body, so it is difficult to only focus on the useful parts. Just using the name and description can help sidestep this issue, though there are still similar problems with some descriptions, but to a lesser extent."
   ]
  },
  {
   "cell_type": "code",
   "execution_count": 45,
   "metadata": {},
   "outputs": [
    {
     "name": "stdout",
     "output_type": "stream",
     "text": [
      "DATALAYER: HIGH THROUGHPUT, LOW LATENCY AT SCALE - BOOST THE PERFORMANCE OF YOUR\r\n",
      "DISTRIBUTED DATABASE\r\n",
      "Share on Twitter Share on Facebook Share on Google+ Vote on Hacker News Published Dec 29, 2016Learn how distributed DBs (Cassandra, MongoDB, RethinkDB, etc) solve the problem\r\n",
      "of scaling persistent storage, but introduce latency as data size increases and\r\n",
      "become I/O bound. In single server DBs, latency is solved by introducing\r\n",
      "caching. In this talk, Akbar Ahmed shows you how to improve the performance of\r\n",
      "distributed DBs by using a distributed cache to move the data layer performance\r\n",
      "limitation from I/O bound to network bound.\r\n",
      "\r\n",
      "Akbar is the CEO and founder of DynomiteDB, a framework for turning single\r\n",
      "server data stores into linearly scalable, distributed databases. He is an\r\n",
      "Apache Cassandra certified developer and a Cassandra MVP, enjoys the\r\n",
      "expressiveness of both SQL and alternative query languages, and evaluates the\r\n",
      "entire database ecosystem every 6 months and has an MBA in Information Systems.\r\n",
      "\r\n",
      "\r\n",
      "--------------------------------------------------------------------------------\r\n",
      "\r\n",
      "If you have any feedback about this or any other Compose article, drop the\r\n",
      "Compose Articles team a line at articles@compose.com . We're happy to hear from you.\r\n",
      "\r\n",
      "Share on Twitter Share on Facebook Share on Google+ Vote on Hacker News Subscribe Thom Crowe is a marketing and community guy at Compose, who enjoys long walks on the\r\n",
      "beach, reading, spending time with his wife and daughter and tinkering. Love\r\n",
      "this article? Head over to Thom Crowe’s author page and keep reading. Company About Us We’re Hiring Articles Write Stuff Plans & Pricing Customer Stories Compose Webinars Support System Status Support Documentation Security Privacy Policy Terms of Service Products MongoDB Elasticsearch RethinkDB Redis PostgreSQL etcd RabbitMQ ScyllaDB MySQL Enterprise Add-ons * Deployments AWS SoftLayer Google Cloud\n"
     ]
    }
   ],
   "source": [
    "print(df_content.loc[3, 'doc_body'])"
   ]
  },
  {
   "cell_type": "code",
   "execution_count": 46,
   "metadata": {},
   "outputs": [],
   "source": [
    "tfidf_df, text_transformer=build_transformer(df_content,suffixes=['_description', '_full_name'])\n",
    "art_sim_mat_train=cosine_similarity(tfidf_df)\n",
    "art_sim_df_train=pd.DataFrame(art_sim_mat_train, columns=df_content.index, index=df_content.index)\n",
    "art_sim_df_train=art_sim_df_train.loc[user_train.columns, user_train.columns]"
   ]
  },
  {
   "cell_type": "code",
   "execution_count": 47,
   "metadata": {},
   "outputs": [
    {
     "name": "stdout",
     "output_type": "stream",
     "text": [
      "Precision/Number of Predictions auc score: 8.021604808960213\n",
      "Precision/Recall auc score: 0.01352498923654916\n"
     ]
    },
    {
     "data": {
      "image/png": "[encoded data removed]",
      "text/plain": [
       "<Figure size 864x864 with 2 Axes>"
      ]
     },
     "metadata": {
      "needs_background": "light"
     },
     "output_type": "display_data"
    }
   ],
   "source": [
    "recommender =lambda user: make_content_angle_recs(user,-1, art_sim_df_train, user_train)\n",
    "evaluate_recommender(recommender);"
   ]
  },
  {
   "cell_type": "markdown",
   "metadata": {},
   "source": [
    "This method isn't great, in fact it's worse than just recommending articles by populairty. Partly this is because the implementation isn't as good as it could be. There are also some more fundamental problems however. \n",
    "\n",
    "The model correctly identifies very similar articles but this doesn't always translate into good recommendations. One particular issue is that some articles are videos. They have very similar content according to df_content but may be very different in reality.\n",
    "\n",
    "There is also series of newsletters which are all identified as being similar. If someone has read a few of these newsletters they'll be recommended all of the rest. This might make sense as a recommendation but is often a poor performing choice. In some ways this reflects a limitation of our evaluation method, we're constrained to asking whether someone has already seen a recommendation, which might not always be a good measure of the quality of a recommendation.\n",
    "\n",
    "This seems to be less of an issue with the collaborative method. This may reflect the nature of content discovery. Some articles might be 'popular' just because they are widely disseminated, for example if it was an article pinned on the home page. The existing data is biased towards articles which were more visible, and this is recreated in the collaborative model in a way that it is not in the content based model."
   ]
  },
  {
   "cell_type": "markdown",
   "metadata": {},
   "source": [
    "We can also combine the previous two methods. Instead of making a collaborative recommendation based on only articles that other users have seen, we can include a contribution from similar articles. \n",
    "\n",
    "In the original method for example, if user $X_{n}$ is the $n^{th}$ most similar user we a contribution of $\\frac{1}{2^{n}}$ towards the score of each article $X_{n}$ has seen. Instead we might say that for each article $A_{i}$ seen by $X$ and each other article $A_{j}$ add $$\\frac{f(C(A_{i},A_{j})}{2^{n}}$$ to the score of $A_{j}$, where $C(A_{i},A_{j})$ is the cosine angle."
   ]
  },
  {
   "cell_type": "code",
   "execution_count": 48,
   "metadata": {},
   "outputs": [],
   "source": [
    "mult=np.matrix(user_train)*(art_sim_df_train**2).values"
   ]
  },
  {
   "cell_type": "code",
   "execution_count": 49,
   "metadata": {},
   "outputs": [],
   "source": [
    "content_item=pd.DataFrame(np.array(mult), index=user_train.index, columns=user_train.columns)"
   ]
  },
  {
   "cell_type": "code",
   "execution_count": 50,
   "metadata": {},
   "outputs": [
    {
     "name": "stdout",
     "output_type": "stream",
     "text": [
      "Precision/Number of Predictions auc score: 17.400122547003498\n",
      "Precision/Recall auc score: 0.23189749559810388\n"
     ]
    },
    {
     "data": {
      "image/png": "[encoded data removed]",
      "text/plain": [
       "<Figure size 864x864 with 2 Axes>"
      ]
     },
     "metadata": {
      "needs_background": "light"
     },
     "output_type": "display_data"
    }
   ],
   "source": [
    "recommender =lambda user: make_user_user_recs(user, -1, user_sim_df=user_sim_df_train, user_item=content_item,\n",
    "                                              decay=-1, seen = user_seen(user, user_train))\n",
    "evaluate_recommender(recommender);"
   ]
  },
  {
   "cell_type": "markdown",
   "metadata": {},
   "source": [
    "Unsurprisngly this is worse than our first method, but an improvement on the second. With a better content based method, however, it might become a more viable option."
   ]
  },
  {
   "cell_type": "markdown",
   "metadata": {},
   "source": [
    "### <a class=\"anchor\" id=\"Matrix-Fact\">Part VI: Matrix Factorization</a>\n",
    "\n",
    "\n",
    "The final recommendation method to try uses singular value decomposition. \n",
    "\n",
    "Given a user-article interaction matrix, $M$, we can take a singular value decomposition\n",
    "$$M=USV^{T}$$\n",
    "where $S$ is a diagonal matrix of singular values (these can be thought of as generalised eigenvalues, or just the square roots of the eignevalues of $MM^{T}$) and $U,V$ are semi-unitary matrices so that $$U^{T}U=V{T}V=I.$$\n",
    "\n",
    "The idea then is that the variability of the matrix should be captured by the large singular values, so if we truncate $S$ we should be able to capture the behaviour of the matrix $M$ while throwing away some of the irrelevant information. Then we make recomendation bases on the entries of this new, approximate matrix.\n",
    "\n",
    "Often such methods are used in conjunction with latent variables. That there should be some underlying linear structure which determines user/article interactions and these should correspond to the large singular values."
   ]
  },
  {
   "cell_type": "code",
   "execution_count": 51,
   "metadata": {},
   "outputs": [],
   "source": [
    "def restructure_SVD(k, u, s, vt):\n",
    "\n",
    "    s_new, u_new, vt_new = np.diag(s[:k]), u[:, :k], vt[:k, :]\n",
    "    \n",
    "    return np.dot(np.dot(u_new, s_new), vt_new)\n",
    "\n",
    "def SVD_recs(user, n, svd_mat):\n",
    "        \n",
    "    scores=svd_mat.loc[user]\n",
    "    scores=scores.sort_values(ascending=False)\n",
    "    return list(scores.index[:n])\n",
    "\n",
    "def make_SVD_recs(user, n , k, user_item=user_item):\n",
    "    \n",
    "    u, s, vt =np.linalg.svd(user_item)\n",
    "    \n",
    "    svd_mat=pd.DataFrame(restructure_SVD(k,u,s,vt), index=user_item.index, columns=user_item.columns)\n",
    "    svd_mat[user_item==1]=-1\n",
    "    \n",
    "    return SVD_recs(user, n, svd_mat)"
   ]
  },
  {
   "cell_type": "code",
   "execution_count": 52,
   "metadata": {},
   "outputs": [
    {
     "data": {
      "text/plain": [
       "['use the machine learning library',\n",
       " 'data science for real-time streaming analytics',\n",
       " 'top 10 machine learning algorithms for beginners',\n",
       " \"a kaggler's guide to model stacking in practice\",\n",
       " 'shiny 0.12: interactive plots with ggplot2',\n",
       " 'predict chronic kidney disease using spss modeler flows',\n",
       " 'what caused the challenger disaster?',\n",
       " 'breast cancer wisconsin (diagnostic) data set',\n",
       " 'flexdashboard: interactive dashboards for r',\n",
       " 'small steps to tensorflow']"
      ]
     },
     "execution_count": 52,
     "metadata": {},
     "output_type": "execute_result"
    }
   ],
   "source": [
    "get_article_names(make_SVD_recs(1, 10 , 100, user_item))"
   ]
  },
  {
   "cell_type": "code",
   "execution_count": 53,
   "metadata": {},
   "outputs": [
    {
     "data": {
      "text/html": [
       "<div>\n",
       "<style scoped>\n",
       "    .dataframe tbody tr th:only-of-type {\n",
       "        vertical-align: middle;\n",
       "    }\n",
       "\n",
       "    .dataframe tbody tr th {\n",
       "        vertical-align: top;\n",
       "    }\n",
       "\n",
       "    .dataframe thead th {\n",
       "        text-align: right;\n",
       "    }\n",
       "</style>\n",
       "<table border=\"1\" class=\"dataframe\">\n",
       "  <thead>\n",
       "    <tr style=\"text-align: right;\">\n",
       "      <th></th>\n",
       "      <th>pred_auc_score</th>\n",
       "      <th>recall_auc_score</th>\n",
       "    </tr>\n",
       "  </thead>\n",
       "  <tbody>\n",
       "    <tr>\n",
       "      <th>120</th>\n",
       "      <td>13.068915</td>\n",
       "      <td>0.072517</td>\n",
       "    </tr>\n",
       "    <tr>\n",
       "      <th>115</th>\n",
       "      <td>13.165446</td>\n",
       "      <td>0.071990</td>\n",
       "    </tr>\n",
       "    <tr>\n",
       "      <th>110</th>\n",
       "      <td>13.168945</td>\n",
       "      <td>0.071963</td>\n",
       "    </tr>\n",
       "    <tr>\n",
       "      <th>130</th>\n",
       "      <td>13.017742</td>\n",
       "      <td>0.071351</td>\n",
       "    </tr>\n",
       "    <tr>\n",
       "      <th>125</th>\n",
       "      <td>13.039930</td>\n",
       "      <td>0.071305</td>\n",
       "    </tr>\n",
       "  </tbody>\n",
       "</table>\n",
       "</div>"
      ],
      "text/plain": [
       "     pred_auc_score  recall_auc_score\n",
       "120       13.068915          0.072517\n",
       "115       13.165446          0.071990\n",
       "110       13.168945          0.071963\n",
       "130       13.017742          0.071351\n",
       "125       13.039930          0.071305"
      ]
     },
     "execution_count": 53,
     "metadata": {},
     "output_type": "execute_result"
    }
   ],
   "source": [
    "u_train, s_train, vt_train =np.linalg.svd(user_train)\n",
    "\n",
    "results=dict()\n",
    "\n",
    "num_latent_feats = np.arange(50,150,5)\n",
    "for k in num_latent_feats:\n",
    "\n",
    "    svd_mat=pd.DataFrame(restructure_SVD(k, u_train, s_train, vt_train),\n",
    "                         index=user_train.index, columns=user_train.columns)\n",
    "    svd_mat[user_train==1]=-1\n",
    "    \n",
    "    recommender = lambda user: SVD_recs(user,-1, svd_mat)\n",
    "    results[k]=list(evaluate_recommender(recommender,test, graph=False))[-2:]\n",
    "    \n",
    "\n",
    "results=pd.DataFrame(results, index=['pred_auc_score', 'recall_auc_score']).transpose(\n",
    "        ).sort_values('recall_auc_score', ascending=False)\n",
    "results.head()"
   ]
  },
  {
   "cell_type": "code",
   "execution_count": 54,
   "metadata": {},
   "outputs": [
    {
     "data": {
      "text/plain": [
       "[<matplotlib.lines.Line2D at 0x29507bcee80>]"
      ]
     },
     "execution_count": 54,
     "metadata": {},
     "output_type": "execute_result"
    },
    {
     "data": {
      "image/png": "[encoded data removed]",
      "text/plain": [
       "<Figure size 864x864 with 1 Axes>"
      ]
     },
     "metadata": {
      "needs_background": "light"
     },
     "output_type": "display_data"
    }
   ],
   "source": [
    "f, axs = plt.subplots(1,1,figsize=(12,12))\n",
    "plt.plot(results.sort_index().recall_auc_score)"
   ]
  },
  {
   "cell_type": "code",
   "execution_count": 55,
   "metadata": {},
   "outputs": [
    {
     "name": "stdout",
     "output_type": "stream",
     "text": [
      "Precision/Number of Predictions auc score: 13.03992990741326\n",
      "Precision/Recall auc score: 0.07130490456137849\n"
     ]
    },
    {
     "data": {
      "image/png": "[encoded data removed]",
      "text/plain": [
       "<Figure size 864x864 with 2 Axes>"
      ]
     },
     "metadata": {
      "needs_background": "light"
     },
     "output_type": "display_data"
    }
   ],
   "source": [
    "svd_mat=pd.DataFrame(restructure_SVD(125, u_train, s_train, vt_train),\n",
    "                         index=user_train.index, columns=user_train.columns)\n",
    "svd_mat[user_train==1]=-1\n",
    "    \n",
    "recommender = lambda user: SVD_recs(user,-1, svd_mat)\n",
    "evaluate_recommender(recommender,test);\n",
    "    "
   ]
  },
  {
   "cell_type": "markdown",
   "metadata": {},
   "source": [
    "Once again, the method is not fantastic. With 125 latent features, it is better than the content based method, but worse than the collaborative one and similar to the combined one.\n",
    "\n",
    "Unlike the earlier methods this one more naturally offers a variable number of recommendations. The SVD method ultimately produced a matrix of values, where in a perfect world $1$ would mean it should be recommended and $0$ means it should not.\n",
    "\n",
    "We can therefore fix a threshold $t$ and recommend articles to users for whom the corresponding matrix value is at least $t$."
   ]
  },
  {
   "cell_type": "code",
   "execution_count": 56,
   "metadata": {},
   "outputs": [],
   "source": [
    "def SVD_threshold_scores(user, svd_mat, seen):\n",
    "        \n",
    "    scores=svd_mat.loc[user]\n",
    "    scores=scores.sort_values(ascending=False)\n",
    "    scores=scores.drop(seen)\n",
    "    \n",
    "    \n",
    "    return scores\n",
    "\n",
    "def make_SVD_threshold_recs(user, t , k, user_item=user_item):\n",
    "    \n",
    "    u, s, vt =np.linalg.svd(user_item)\n",
    "    \n",
    "    svd_mat=pd.DataFrame(restructure_SVD(k,u,s,vt), index=user_item.index, columns=user_item.columns)\n",
    "    \n",
    "    seen=user_seen(user,user_item)\n",
    "    scores= SVD_threshold_scores(user, svd_mat, seen)\n",
    "    \n",
    "    \n",
    "    return list((scores[scores >= t]).index)"
   ]
  },
  {
   "cell_type": "code",
   "execution_count": 57,
   "metadata": {},
   "outputs": [],
   "source": [
    "def evaluate_threshold_recommender(recommender, test=test, user_train=user_train, graph=True):\n",
    "    '''\n",
    "    Evaluates recommender against a test dictionary. Plots and outputs mean recall, precision and f1-scores.\n",
    "    Also prints and outputs precision/recall auc score.\n",
    "    '''\n",
    "    recalls_list=[]\n",
    "    precisions_list=[]\n",
    "    n_recs_list=[]\n",
    "    \n",
    "    for user in test.keys():   \n",
    "        \n",
    "        precisions=[]\n",
    "        recalls=[]\n",
    "        n_recs=[]\n",
    "        \n",
    "        scores=recommender(user)\n",
    "        \n",
    "        for t in np.linspace(0,1,101):\n",
    "            \n",
    "            recs=scores[scores >= t].index\n",
    "            if len(recs) > 0:\n",
    "                is_pos=[rec in test[user] for rec in recs]\n",
    "                n_true= sum(is_pos)\n",
    "                precision= n_true/len(is_pos)\n",
    "                recall=n_true/len(test[user])\n",
    "            else:\n",
    "                precision=1\n",
    "                recall=0\n",
    "            \n",
    "            precisions.append(precision)\n",
    "            recalls.append(recall)\n",
    "            n_recs.append(len(recs))\n",
    "        \n",
    "        recalls_list.append(recalls)\n",
    "        precisions_list.append(precisions)\n",
    "        n_recs_list.append(n_recs)\n",
    "    \n",
    "    mean_precisions=np.array([np.mean(x) for x in np.array(precisions_list).transpose()])\n",
    "    mean_recalls=np.array([np.mean(x) for x in np.array(recalls_list).transpose()])\n",
    "    mean_n_recs=np.array([np.mean(x) for x in np.array(n_recs_list).transpose()])\n",
    "    f1_scores=2*(mean_precisions*mean_recalls)/(mean_precisions+mean_recalls)\n",
    "    \n",
    "    recall_auc_score=auc(mean_recalls, mean_precisions)\n",
    "    \n",
    "    if graph:\n",
    "        f, axs = plt.subplots(1,1,figsize=(12,12)) \n",
    "        plt.plot(mean_recalls, mean_precisions);\n",
    "        plt.title('Precision vs Recall')\n",
    "        plt.xlabel('Recall')\n",
    "        plt.ylabel('Precision')\n",
    "        print(f'Precision/Recall auc score: {recall_auc_score}')\n",
    "    return mean_precisions, mean_recalls, f1_scores, mean_n_recs, recall_auc_score"
   ]
  },
  {
   "cell_type": "code",
   "execution_count": 58,
   "metadata": {},
   "outputs": [
    {
     "name": "stdout",
     "output_type": "stream",
     "text": [
      "Precision/Recall auc score: 0.1738330992009118\n"
     ]
    },
    {
     "data": {
      "image/png": "[encoded data removed]",
      "text/plain": [
       "<Figure size 864x864 with 1 Axes>"
      ]
     },
     "metadata": {
      "needs_background": "light"
     },
     "output_type": "display_data"
    }
   ],
   "source": [
    "seen_dict={user:user_seen(user,user_train) for user in test.keys()}\n",
    "\n",
    "recommender = lambda user: SVD_threshold_scores(user, svd_mat, seen_dict[user])\n",
    "evaluate_threshold_recommender(recommender,test);"
   ]
  },
  {
   "cell_type": "markdown",
   "metadata": {},
   "source": [
    "The auc score here is much higher, though it is not directly comparable to the earlier scores since the test is slightly different here. In particular the high precision at the start is essentially achieved by not making any recommendations at high thresholds. For comparison we can do the same thing with the other recommenders, though it is much less natural."
   ]
  },
  {
   "cell_type": "code",
   "execution_count": 59,
   "metadata": {},
   "outputs": [
    {
     "name": "stdout",
     "output_type": "stream",
     "text": [
      "Precision/Recall auc score: 0.5945420979559739\n"
     ]
    },
    {
     "data": {
      "image/png": "[encoded data removed]",
      "text/plain": [
       "<Figure size 864x864 with 1 Axes>"
      ]
     },
     "metadata": {
      "needs_background": "light"
     },
     "output_type": "display_data"
    }
   ],
   "source": [
    "ranked_item_dict={user:user_user_ranked_item(user,user_sim_df_train, user_train) for user in test.keys()}\n",
    "weights=np.matrix([2**(-i) for i in range(0,user_item.shape[0])])/2\n",
    "recommender=lambda user: user_user_scores(ranked_item_dict[user], weights[:,:ranked_item_dict[user].shape[0]])\n",
    "\n",
    "mean_precisions, mean_recalls, f1_scores, mean_n_recs, recall_auc_score=evaluate_threshold_recommender(recommender,test);"
   ]
  },
  {
   "cell_type": "code",
   "execution_count": 60,
   "metadata": {},
   "outputs": [
    {
     "data": {
      "image/png": "[encoded data removed]",
      "text/plain": [
       "<Figure size 864x576 with 1 Axes>"
      ]
     },
     "metadata": {
      "needs_background": "light"
     },
     "output_type": "display_data"
    }
   ],
   "source": [
    "plt.subplots(1,1,figsize=(12,8)) \n",
    "plt.plot(np.linspace(0,1,101), mean_recalls)\n",
    "plt.title('Threshold vs Recall')\n",
    "plt.xlabel('Threshold')\n",
    "plt.ylabel('Recall');"
   ]
  },
  {
   "cell_type": "code",
   "execution_count": 61,
   "metadata": {},
   "outputs": [
    {
     "data": {
      "image/png": "[encoded data removed]",
      "text/plain": [
       "<Figure size 864x576 with 1 Axes>"
      ]
     },
     "metadata": {
      "needs_background": "light"
     },
     "output_type": "display_data"
    }
   ],
   "source": [
    "plt.subplots(1,1,figsize=(12,8)) \n",
    "plt.plot(np.linspace(0,1,101), mean_precisions)\n",
    "plt.title('Threshold VS Precision')\n",
    "plt.xlabel('Threshold')\n",
    "plt.ylabel('Precision');"
   ]
  },
  {
   "cell_type": "markdown",
   "metadata": {},
   "source": [
    "As before this method performs very very well. If we were to use the method like this we would want to pick a threshold of about 0.45."
   ]
  },
  {
   "cell_type": "code",
   "execution_count": 62,
   "metadata": {},
   "outputs": [
    {
     "data": {
      "image/png": "[encoded data removed]",
      "text/plain": [
       "<Figure size 864x576 with 1 Axes>"
      ]
     },
     "metadata": {
      "needs_background": "light"
     },
     "output_type": "display_data"
    }
   ],
   "source": [
    "plt.subplots(1,1,figsize=(12,8)) \n",
    "plt.plot(np.linspace(0,1,101)[10:100], mean_n_recs[10:100])\n",
    "plt.title('Threshold vs Mean Number of Recommendations')\n",
    "plt.xlabel('Threshold')\n",
    "plt.ylabel('Mean Number of Recommendations');"
   ]
  },
  {
   "cell_type": "code",
   "execution_count": 63,
   "metadata": {},
   "outputs": [
    {
     "data": {
      "text/plain": [
       "'Number of users with no recommendations: 11'"
      ]
     },
     "execution_count": 63,
     "metadata": {},
     "output_type": "execute_result"
    }
   ],
   "source": [
    "n_recs=[]\n",
    "\n",
    "for user in test.keys():   \n",
    "        scores=recommender(user)\n",
    "        recs=scores[scores >= 0.45].index\n",
    "        n_recs.append(len(recs))\n",
    "        \n",
    "f'Number of users with no recommendations: {len([n for n in n_recs if n==0])}'"
   ]
  },
  {
   "cell_type": "markdown",
   "metadata": {},
   "source": [
    "This only gives a few recommendations though, and gives some users none at all. This style of recommendation making, therefore, may not be appropriate for some uses. On the other hand a a high threshold is very restrictive and if we were interested in making only a few, accurate recommendations to some users, this could be a very powerful method."
   ]
  },
  {
   "cell_type": "markdown",
   "metadata": {},
   "source": [
    "### <a class=\"anchor\" id=\"Conclusion\">Part VII: Conclusion</a>"
   ]
  },
  {
   "cell_type": "markdown",
   "metadata": {},
   "source": [
    "We've seen a few different methods for making recommendations with this data set. The collaborative method is the clear winner against the metric we originally specified, the precision-recall AUC score. However other methods may be more useful in making certain kinds of recommendations. For example if we wished to put recommendations for what to read next at the bottom of an article then a content based method may be more appropriate. They may have other benefits like more serendipitous recommendations, which are not really tested by our metric.\n",
    "\n",
    "There is also more scope for combining the methods than has been done here. If we were trying to make $n$ recommendations, say, we might wish to make some by different methods, or even choose $2n$ with one method, and then make a final pick of $n$ with another. In the latter case we might want to replace the SVD method with one closer to FunkSVD, by 'hiding' the user-item entries corresponding to possible recommendations we could use FunkSVD to get a decomposition which doesn't take into account that these entries are $0$, which may improve perfomance."
   ]
  },
  {
   "cell_type": "markdown",
   "metadata": {},
   "source": [
    "\n",
    "In any case, once we had suitably refined our models we would likely wish to test their real world performance. This could be done through A/B testing. \n",
    "\n",
    "Since we have multiple models, some of which we may wish to blend, we may either run multiple experiments in tandem, and make pairwise  or group comparisons, or opt for a more iterative approach. This might look like testing two options, picking the better, and testing it against a new option and so on. The timescale of the experiment might look very different depending on the choices made, and this should be taken into account.\n",
    "\n",
    "It would not really be appropriate here to test against a system with no, or totally random, recommendations. This would likely severely impact the user experience of one group, which would be at best questionably ethical and at worst detrimental to the overall platform. Comparisons against historical data would likely be flawed as there may be novelty bias, or unrelated changes in user behaviour, however such data could be used effectively to assign users to testing groups.\n",
    "\n",
    "For either situation we would need to fix relative metrics in advance. The most natural here is a user-engagement metric, say mean number of articles interacted with. We might also be interested in user retention, perhaps measured by the number of users who interact with at least one article in the final $n$ days. Subsidiary items of interest might focus on the distribution of interactions. IBM might seek for example to increase the number of interactions with less popular articles, either as a goal in its own right or as part of a longer term aim to increase the diversity of articles.\n",
    "\n",
    "Finally, the users of this site are likely more technologically minded than the global average. They may, therefore, be interested in being afforded the opportunity to choose the way recommendations are made themselves, within some preset limits. If a model blending collaborative and content based recommendations was used, the option might be given to chose the relative weighting of each method. The Steam store, for example, offers something along these lines.\n",
    "\n",
    "It would be difficult, I expect, to get a good idea of the effectiveness of such an option in the short term as there would likely be a large novelty factor. Equally there may be objections if such a feature was rolled out long term to only a subset of users, especially if it proved popular. Conversely comparisons between users who engaged with this feature and those who did not would be poor as they suffer from inherent sample bias. "
   ]
  }
 ],
 "metadata": {
  "kernelspec": {
   "display_name": "Python 3",
   "language": "python",
   "name": "python3"
  },
  "language_info": {
   "codemirror_mode": {
    "name": "ipython",
    "version": 3
   },
   "file_extension": ".py",
   "mimetype": "text/x-python",
   "name": "python",
   "nbconvert_exporter": "python",
   "pygments_lexer": "ipython3",
   "version": "3.8.5"
  }
 },
 "nbformat": 4,
 "nbformat_minor": 2
}
